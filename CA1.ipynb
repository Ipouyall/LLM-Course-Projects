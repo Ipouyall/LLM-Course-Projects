{
  "cells": [
    {
      "cell_type": "markdown",
      "metadata": {
        "id": "BPOsZP3eGKmj"
      },
      "source": [
        "## CA 1, LLMs Spring 2024\n",
        "\n",
        "- ***Name: Pouya Sadeghi***\n",
        "- ***Student ID: 810199447***\n",
        "\n",
        "---\n",
        "### This is due on **April 2nd, 2024**, submitted via [elearn](https://elearn.ut.ac.ir/).\n",
        "#### Your submission should be named using the following format: `CA1_LASTNAME_STUDENTID.ipynb`.\n",
        "\n",
        "### **IMPORTANT**: After copying this notebook to your Google Drive, please paste a link to it below. To get a publicly-accessible link, hit the *Share* button at the top right, then click \"Get shareable link\" and copy over the result. If you fail to do this, you will receive no credit for this homework!\n",
        "# ***LINK: *https://drive.google.com/file/d/1zTzz21Z-EJKa2OpB7cK-4sJJD35zGe9s/view?usp=sharing****\n",
        "\n",
        "---\n",
        "\n",
        "##### *How to do this problem set:*\n",
        "\n",
        "- Some questions require writing Python code and computing results, and the rest of them have written answers. For coding problems, you will have to fill out all code blocks that say `YOUR CODE HERE`.\n",
        "\n",
        "- For text-based answers, you should replace the text that says \"Write your answer here...\" with your actual answer.\n",
        "\n",
        "- There is no penalty for using AI assistance on this homework as long as you fully disclose it in the final cell of this notebook (this includes storing any prompts that you feed to large language models). That said, anyone caught using AI assistance without proper disclosure will receive a zero on the assignment (we have several automatic tools to detect such cases). We're literally allowing you to use it with no limitations, so there is no reason to lie!\n",
        "\n",
        "---\n",
        "\n",
        "##### *Academic honesty*\n",
        "\n",
        "- We will audit the Colab notebooks from a set number of students, chosen at random. The audits will check that the code you wrote actually generates the answers in your notebook. If you turn in correct answers on your notebook without code that actually generates those answers, we will consider this a serious case of cheating.\n",
        "\n",
        "- We will also run automatic checks of Colab notebooks for plagiarism. Copying code from others is also considered a serious case of cheating.\n",
        "\n",
        "---\n",
        "\n",
        "If you have any further questions or concerns, contact the TA via email:\n",
        "namazifard@ut.ac.ir\n",
        "\n",
        "---"
      ]
    },
    {
      "cell_type": "markdown",
      "metadata": {
        "id": "sIGZBVK96ARd"
      },
      "source": [
        "# Part 1: Word Embeddings and Masked LMs (40 points)"
      ]
    },
    {
      "cell_type": "markdown",
      "metadata": {
        "id": "BgRQHomu9VDV"
      },
      "source": [
        "### Question 1.1 (5 points)"
      ]
    },
    {
      "cell_type": "markdown",
      "metadata": {
        "id": "b-o6W_La6E6V"
      },
      "source": [
        "In this part, we will start with `GloVe` [(Pennington et al.)](https://aclanthology.org/D14-1162.pdf) word embeddings. `GloVe` provides low-dimensional dense vectors representing words' semantics. The distance between `GloVe` embeddings captures the semantic relationships of words. We are using the `Gensim` library for  working with `GloVe` embeddings. Let's install `Gensim` and download the 6B token model. Also, we should unzip the model file. Running the cell below could take a few minutes."
      ]
    },
    {
      "cell_type": "code",
      "execution_count": null,
      "metadata": {
        "colab": {
          "base_uri": "https://localhost:8080/"
        },
        "id": "OeSDN3i858zo",
        "outputId": "1b86e282-7f9e-4de7-bd9a-708d48965a3f"
      },
      "outputs": [
        {
          "output_type": "stream",
          "name": "stdout",
          "text": [
            "Requirement already satisfied: gensim in /usr/local/lib/python3.10/dist-packages (4.3.2)\n",
            "Requirement already satisfied: numpy>=1.18.5 in /usr/local/lib/python3.10/dist-packages (from gensim) (1.25.2)\n",
            "Requirement already satisfied: scipy>=1.7.0 in /usr/local/lib/python3.10/dist-packages (from gensim) (1.11.4)\n",
            "Requirement already satisfied: smart-open>=1.8.1 in /usr/local/lib/python3.10/dist-packages (from gensim) (6.4.0)\n",
            "--2024-04-02 15:11:00--  https://nlp.stanford.edu/data/glove.6B.zip\n",
            "Resolving nlp.stanford.edu (nlp.stanford.edu)... 171.64.67.140\n",
            "Connecting to nlp.stanford.edu (nlp.stanford.edu)|171.64.67.140|:443... connected.\n",
            "HTTP request sent, awaiting response... 301 Moved Permanently\n",
            "Location: https://downloads.cs.stanford.edu/nlp/data/glove.6B.zip [following]\n",
            "--2024-04-02 15:11:01--  https://downloads.cs.stanford.edu/nlp/data/glove.6B.zip\n",
            "Resolving downloads.cs.stanford.edu (downloads.cs.stanford.edu)... 171.64.64.22\n",
            "Connecting to downloads.cs.stanford.edu (downloads.cs.stanford.edu)|171.64.64.22|:443... connected.\n",
            "HTTP request sent, awaiting response... 200 OK\n",
            "Length: 862182613 (822M) [application/zip]\n",
            "Saving to: ‘glove.6B.zip’\n",
            "\n",
            "glove.6B.zip        100%[===================>] 822.24M  5.01MB/s    in 2m 38s  \n",
            "\n",
            "2024-04-02 15:13:40 (5.19 MB/s) - ‘glove.6B.zip’ saved [862182613/862182613]\n",
            "\n",
            "Archive:  /content/glove.6B.zip\n",
            "  inflating: glove.6B.50d.txt        \n",
            "  inflating: glove.6B.100d.txt       \n",
            "  inflating: glove.6B.200d.txt       \n",
            "  inflating: glove.6B.300d.txt       \n"
          ]
        }
      ],
      "source": [
        "!pip install gensim\n",
        "!wget https://nlp.stanford.edu/data/glove.6B.zip\n",
        "!unzip \"/content/glove.6B.zip\""
      ]
    },
    {
      "cell_type": "markdown",
      "metadata": {
        "id": "bKVZeILG6KUu"
      },
      "source": [
        "We are using the model file with 6 billion tokens containing 200-dimensional vectors. Running the cell below will create the word embedding model."
      ]
    },
    {
      "cell_type": "code",
      "execution_count": null,
      "metadata": {
        "id": "TrumleB96NFq"
      },
      "outputs": [],
      "source": [
        "from gensim.scripts.glove2word2vec import glove2word2vec\n",
        "from gensim.models import KeyedVectors\n",
        "\n",
        "glove_input_file = 'glove.6B.200d.txt'\n",
        "model = KeyedVectors.load_word2vec_format(glove_input_file, binary=False, no_header=True)"
      ]
    },
    {
      "cell_type": "markdown",
      "metadata": {
        "id": "XdbyaunH6HLu"
      },
      "source": [
        "Try to write the 5 most similar words to **computer**, **football**, **ocean**, **music**, and **artificial** along with their similarity scores."
      ]
    },
    {
      "cell_type": "code",
      "execution_count": null,
      "metadata": {
        "id": "7q5ZZCk36Qqt",
        "colab": {
          "base_uri": "https://localhost:8080/"
        },
        "outputId": "42d8ed3f-1a66-4f98-d1dd-1be6041cb6ca"
      },
      "outputs": [
        {
          "output_type": "stream",
          "name": "stdout",
          "text": [
            "*****************[ Human guest ]******************\n",
            "Similar words to computer:\n",
            "\t(computer) <-> hardware        : 0.636863\n",
            "\t(computer) <-> software        : 0.782846\n",
            "\t(computer) <-> technology      : 0.690766\n",
            "\t(computer) <-> internet        : 0.644621\n",
            "\t(computer) <-> device          : 0.564322\n",
            "Similar words to football:\n",
            "\t(football) <-> soccer          : 0.810518\n",
            "\t(football) <-> basketball      : 0.789614\n",
            "\t(football) <-> volleyball      : 0.572471\n",
            "\t(football) <-> chess           : 0.385325\n",
            "Similar words to ocean:\n",
            "\t(ocean) <-> water           : 0.527622\n",
            "\t(ocean) <-> sea             : 0.727745\n",
            "\t(ocean) <-> beach           : 0.483294\n",
            "\t(ocean) <-> waves           : 0.575693\n",
            "\t(ocean) <-> boat            : 0.524134\n",
            "Similar words to music:\n",
            "\t(music) <-> song            : 0.649591\n",
            "\t(music) <-> singer          : 0.573627\n",
            "\t(music) <-> rhythm          : 0.462322\n",
            "\t(music) <-> guitar          : 0.573103\n",
            "\t(music) <-> harmony         : 0.338656\n",
            "Similar words to artificial:\n",
            "\t(artificial) <-> intelligence    : 0.268454\n",
            "\t(artificial) <-> synthetic       : 0.476970\n",
            "\t(artificial) <-> leg             : 0.245897\n",
            "\t(artificial) <-> material        : 0.268984\n",
            "\t(artificial) <-> element         : 0.203693\n",
            "******************[ Real top 5 ]******************\n",
            "Similar words to computer:\n",
            "\t(computer) <-> computers       : 0.835772\n",
            "\t(computer) <-> software        : 0.782846\n",
            "\t(computer) <-> technology      : 0.690766\n",
            "\t(computer) <-> pc              : 0.664798\n",
            "\t(computer) <-> systems         : 0.658432\n",
            "Similar words to football:\n",
            "\t(football) <-> soccer          : 0.810518\n",
            "\t(football) <-> basketball      : 0.789614\n",
            "\t(football) <-> league          : 0.716710\n",
            "\t(football) <-> baseball        : 0.702313\n",
            "\t(football) <-> rugby           : 0.700695\n",
            "Similar words to ocean:\n",
            "\t(ocean) <-> sea             : 0.727745\n",
            "\t(ocean) <-> waters          : 0.724155\n",
            "\t(ocean) <-> coast           : 0.697292\n",
            "\t(ocean) <-> atlantic        : 0.691838\n",
            "\t(ocean) <-> seas            : 0.681202\n",
            "Similar words to music:\n",
            "\t(music) <-> musical         : 0.733881\n",
            "\t(music) <-> songs           : 0.725357\n",
            "\t(music) <-> pop             : 0.690601\n",
            "\t(music) <-> musicians       : 0.687654\n",
            "\t(music) <-> recording       : 0.684866\n",
            "Similar words to artificial:\n",
            "\t(artificial) <-> natural         : 0.505091\n",
            "\t(artificial) <-> insemination    : 0.497202\n",
            "\t(artificial) <-> man-made        : 0.485334\n",
            "\t(artificial) <-> synthetic       : 0.476970\n",
            "\t(artificial) <-> creating        : 0.470982\n"
          ]
        }
      ],
      "source": [
        "## WRITE YOUR CODE HERE!\n",
        "def print_similarities_to_set(word: str, word_set: list[str], model: KeyedVectors):\n",
        "    \"\"\"print the similarities of each word in word_set to a given word, considering W2V provided\"\"\"\n",
        "    print(f\"Similar words to {word}:\")\n",
        "    for w in word_set:\n",
        "        print(f\"\\t({word}) <-> {w:<15} : {model.similarity(word, w):.6f}\")\n",
        "\n",
        "### First, we suggest similar works be human effort\n",
        "semantically_similar_words_human = {\n",
        "    \"computer\": [\"hardware\", \"software\", \"technology\", \"internet\", \"device\"], # we assume some terminologies are similar to computer\n",
        "    \"football\": [\"soccer\", \"basketball\", \"volleyball\", \"chess\"], # we assume sports should be similar\n",
        "    \"ocean\": [\"water\", \"sea\", \"beach\", \"waves\", \"boat\"], # we assume some words related to and seen around ocean\n",
        "    \"music\": [\"song\", \"singer\", \"rhythm\", \"guitar\", \"harmony\"], # we assume some words related to music and creating it\n",
        "    \"artificial\": [\"intelligence\", \"synthetic\", \"leg\", \"material\", \"element\"]\n",
        "}\n",
        "print(f\"{'[ Human guest ]':*^50}\")\n",
        "for word, word_set in semantically_similar_words_human.items():\n",
        "    print_similarities_to_set(word, word_set, model)\n",
        "\n",
        "### Then, we would find real top 5 similar words to given words\n",
        "semantically_similar_words = {\n",
        "    \"computer\": model.most_similar(\"computer\", topn=5),\n",
        "    \"football\": model.most_similar(\"football\", topn=5),\n",
        "    \"ocean\": model.most_similar(\"ocean\", topn=5),\n",
        "    \"music\": model.most_similar(\"music\", topn=5),\n",
        "    \"artificial\": model.most_similar(\"artificial\", topn=5)\n",
        "}\n",
        "print(f\"{'[ Real top 5 ]':*^50}\")\n",
        "for word, word_set in semantically_similar_words.items():\n",
        "    print_similarities_to_set(word, [w[0] for w in word_set], model)"
      ]
    },
    {
      "cell_type": "markdown",
      "metadata": {
        "id": "bYKLguwx6df1"
      },
      "source": [
        "**Analogy** in word embeddings refers to performing algebraic operations on vectors to capture the most similar words to the resulting embedding. One of the most famous examples is the analogy *king - man + woman = queen*. In `Gensim`, we can apply analogies using the `most_similar` function. The `positive` argument receives a list of words and applies addition between their embeddings, while the `negative` argument receives a list of words to subtract their embeddings from the result. In our example, *king* and *woman* are in the positive list, while *man* is in the negative list.\n",
        "\n",
        "Let's explore more analogies and the power of `GloVe` embeddings. Write down five other analogies."
      ]
    },
    {
      "cell_type": "code",
      "execution_count": null,
      "metadata": {
        "id": "2AuwX7p96hnQ",
        "colab": {
          "base_uri": "https://localhost:8080/"
        },
        "outputId": "7c7d3e60-d0e4-420c-dfd4-4bd5e3af6671"
      },
      "outputs": [
        {
          "output_type": "stream",
          "name": "stdout",
          "text": [
            "Analogy: king - man + woman:\n",
            "(1)\tqueen (0.697868)\n",
            "(2)\tprincess (0.608175)\n",
            "(3)\tmonarch (0.588975)\n",
            "****************[ 5 New Samples ]*****************\n",
            "Analogy: king - queen + woman:\n",
            "(1)\tman (0.717850)\n",
            "(2)\tperson (0.605025)\n",
            "(3)\tfather (0.599216)\n",
            "Analogy: paris - france + italy:\n",
            "(1)\trome (0.758541)\n",
            "(2)\tmilan (0.685050)\n",
            "(3)\titalian (0.664783)\n",
            "Analogy: dog - puppy + cat:\n",
            "(1)\tdogs (0.627271)\n",
            "(2)\tcats (0.592487)\n",
            "(3)\thorse (0.556448)\n",
            "Analogy: car - road + ship:\n",
            "(1)\tvessel (0.646534)\n",
            "(2)\tships (0.602428)\n",
            "(3)\tboat (0.591753)\n",
            "Analogy: apple - fruit + carrot:\n",
            "(1)\tintel (0.479812)\n",
            "(2)\tmicrosoft (0.465675)\n",
            "(3)\tnetscape (0.444649)\n"
          ]
        }
      ],
      "source": [
        "## WRITE YOUR CODE HERE!\n",
        "def print_analogy(word1: str, word2: str, word3: str, model: KeyedVectors, topn=3):\n",
        "    \"\"\"print the analogy of word1 - word2 + word3, considering W2V provided\"\"\"\n",
        "    print(f\"Analogy: {word1} - {word2} + {word3}:\")\n",
        "    for idx, w in enumerate(model.most_similar(positive=[word1, word3], negative=[word2], topn=topn), start=1):\n",
        "        print(f\"({idx})\\t{w[0]} ({w[1]:.6f})\")\n",
        "\n",
        "print_analogy(\"king\", \"man\", \"woman\", model) # mentioned to be 'queen'? [yes]\n",
        "\n",
        "### try 5 costume samples, considering the formula 'word1 - word2 + word3' mentioned. We understand other formulas are possible.\n",
        "analogies_triples = [\n",
        "    (\"king\", \"queen\", \"woman\"), # would we get man? [yes]\n",
        "    (\"paris\", \"france\", \"italy\"), # can we get capitals, given contries? [yes]\n",
        "    (\"dog\", \"puppy\", \"cat\"), # would we get kitten? [No]\n",
        "    (\"car\", \"road\", \"ship\"), # does in understand means and modes(infrastructure) of transportation? [No]\n",
        "    (\"apple\", \"fruit\", \"carrot\") # does it capture group-member relation? [No]\n",
        "]\n",
        "print(f\"{'[ 5 New Samples ]':*^50}\")\n",
        "for at in analogies_triples:\n",
        "    print_analogy(*at, model)"
      ]
    },
    {
      "cell_type": "markdown",
      "metadata": {
        "id": "SeuDs79G6ka1"
      },
      "source": [
        "### Question 1.2 (10 points)\n",
        "Let's visualize embeddings! We'll start with the following list of words. Extract the embedding for each word and reduce their dimensionality to 2 using the `t-SNE` [(Van der Maaten et al.)](https://www.jmlr.org/papers/volume9/vandermaaten08a/vandermaaten08a.pdf) algorithm. Then, plot them on a scatter plot with their labels."
      ]
    },
    {
      "cell_type": "code",
      "execution_count": null,
      "metadata": {
        "id": "6Lyv-iKm6niZ",
        "colab": {
          "base_uri": "https://localhost:8080/",
          "height": 54
        },
        "outputId": "360e2225-3923-416f-a758-6329076d5f90"
      },
      "outputs": [
        {
          "output_type": "display_data",
          "data": {
            "text/plain": [
              "<Figure size 1000x1000 with 1 Axes>"
            ],
            "image/png": "[encoded data removed]"
          },
          "metadata": {}
        }
      ],
      "source": [
        "words = [\n",
        "    \"dolphin\", \"shark\", \"octopus\", \"jellyfish\", \"seahorse\",\n",
        "    \"turtle\", \"clownfish\", \"lobster\", \"starfish\", \"whale\",\n",
        "    \"eagle\", \"sparrow\", \"owl\", \"hummingbird\", \"penguin\",\n",
        "    \"toucan\", \"flamingo\", \"hawk\", \"parrot\", \"swan\",\n",
        "    \"england\", \"brazil\", \"japan\", \"australia\", \"india\",\n",
        "    \"germany\", \"canada\", \"france\", \"mexico\", \"russia\",\n",
        "    \"chicago\", \"paris\", \"tokyo\", \"london\", \"sydney\",\n",
        "    \"istanbul\", \"tehran\", \"cairo\", \"dubai\", \"mumbai\",\n",
        "    \"symphony\", \"jazz\", \"rock\", \"blues\", \"reggae\",\n",
        "    \"hip-hop\", \"country\", \"pop\", \"classical\", \"r&b\"\n",
        "]\n",
        "\n",
        "\n",
        "## WRITE YOUR CODE HERE!\n",
        "## Use 5 for perplexity of TSNE\n",
        "from sklearn.manifold import TSNE\n",
        "import matplotlib.pyplot as plt\n",
        "import numpy as np\n",
        "\n",
        "def plot_tsne(words: list[str], model: KeyedVectors, perplexity=5):\n",
        "    \"\"\"plot the TSNE of given words, considering W2V provided\"\"\"\n",
        "    embeddings = np.array([model[word] for word in words])\n",
        "    tsne = TSNE(n_components=2, perplexity=perplexity)\n",
        "    embeddings_2d = tsne.fit_transform(embeddings)\n",
        "    plt.figure(figsize=(10, 10))\n",
        "    for i, word in enumerate(words):\n",
        "        x, y = embeddings_2d[i]\n",
        "        plt.scatter(x, y)\n",
        "        plt.text(x, y, word, fontsize=9)\n",
        "    plt.show()\n",
        "\n",
        "plot_tsne(words, model)"
      ]
    },
    {
      "cell_type": "markdown",
      "metadata": {
        "id": "TKgU9Dmq7JDP"
      },
      "source": [
        "Analyze the plot and clusters of embeddings in a few sentences."
      ]
    },
    {
      "cell_type": "markdown",
      "metadata": {
        "id": "QyF5OBz9O-pK"
      },
      "source": [
        "***WRITE YOUR ANSWER HERE***"
      ]
    },
    {
      "cell_type": "markdown",
      "metadata": {
        "id": "iJp6Kbyx7UNG"
      },
      "source": [
        "### Question 1.3 (15 points)\n",
        "Find the most similar words to **bat** and **charge** in GloVe."
      ]
    },
    {
      "cell_type": "code",
      "execution_count": null,
      "metadata": {
        "id": "nXp1AQtl7hXy",
        "colab": {
          "base_uri": "https://localhost:8080/"
        },
        "outputId": "33f969cc-58ba-42d8-87b1-8345dd1ba0b8"
      },
      "outputs": [
        {
          "output_type": "stream",
          "name": "stdout",
          "text": [
            "Most similar words to bat:\n",
            "(1)\tbats (0.691724)\n",
            "(2)\tbatting (0.616059)\n",
            "(3)\tballs (0.569273)\n",
            "(4)\tbatted (0.553091)\n",
            "(5)\ttoss (0.550613)\n",
            "\n",
            "Most similar words to charge:\n",
            "(1)\tcharges (0.817718)\n",
            "(2)\tcharged (0.806714)\n",
            "(3)\tcharging (0.660698)\n",
            "(4)\tguilty (0.637536)\n",
            "(5)\taccused (0.623976)\n",
            "\n"
          ]
        }
      ],
      "source": [
        "## WRITE YOUR CODE HERE!\n",
        "TOPN = 5\n",
        "def find_most_similar_words(word: str, model: KeyedVectors, topn=5) -> list[tuple[str, float]]:\n",
        "    \"\"\"find the most similar words to a given word, considering W2V provided\"\"\"\n",
        "    most_similars = [(w[0], w[1]) for w in model.most_similar(word, topn=topn)]\n",
        "    print(f\"Most similar words to {word}:\")\n",
        "    for idx, w in enumerate(most_similars, start=1):\n",
        "        print(f\"({idx})\\t{w[0]} ({w[1]:.6f})\")\n",
        "    print()\n",
        "    return most_similars\n",
        "\n",
        "most_similar_bat = find_most_similar_words(\"bat\", model, TOPN)\n",
        "most_similar_charge = find_most_similar_words(\"charge\", model, TOPN)"
      ]
    },
    {
      "cell_type": "markdown",
      "metadata": {
        "id": "JXQ5Y8b17m31"
      },
      "source": [
        "Now, consider these sentences:\n",
        "* *The **bat** flew swiftly through the air.*\n",
        "* *He grabbed his **bat** and headed to the baseball field.*\n",
        "\n",
        "Or these sentences:\n",
        "* *I need to **charge** my phone before leaving.*\n",
        "* *He was arrested for **charge** of theft.*\n",
        "\n",
        "As you can see, a static vector cannot capture the meaning of a word in every context, and some words have very different meanings in different sentences. In this part, we will work with a masked language model, which captures contextual embeddings. Let's import necessary modules and load the `BERT` [(Devlin et al.)](https://aclanthology.org/N19-1423.pdf) model."
      ]
    },
    {
      "cell_type": "code",
      "execution_count": null,
      "metadata": {
        "id": "43wobVKF7n-1",
        "colab": {
          "base_uri": "https://localhost:8080/",
          "height": 299,
          "referenced_widgets": [
            "252c8f660b3847e2a571f2f2625baf79",
            "9b6cc98e22bd49939195babeeb0741e0",
            "330328e9f84a46dab1b05a8db96833c2",
            "e6a04d9bec4944ecb8b33f52ee20043b",
            "c393a33d96a84b24b58a717545cdbcaa",
            "1b8b5fa3ad2148989c61f2d0fdf52bb5",
            "2643004aee59442b96e7e128a53b8e39",
            "87855eacb4db462c963cf86d3ed99bfe",
            "0e57e416a7e941fb8a003bc4f85937d8",
            "d91baeddd0684613b6ba8a470a90ddfe",
            "1e2184b90bd446ba9036eae6ccb52a3d",
            "2b5c2b8f66bb4858bc0cb3d5eb6d8497",
            "3f0036bb0e954949af3b6f2ad6f3df46",
            "ce4ba3fe09fa413dbf58a419573f8766",
            "d2598997fa3143afaf9d17ba1bd45220",
            "598a9f016a814d33ab9d53ff5590f50a",
            "2f72b1d86b30422bb3b80b4a1ce79302",
            "ea33e6ff8325494b93b058d8ab342318",
            "6f772c296e8c40448bdf403364231e7e",
            "b5a193847a7d40cbbcf90d50c4ebc152",
            "3696739925564c23be7928559f546a75",
            "60c347797ef3487dacdba3a26039d59c",
            "4338d1ccee3e4fa3846dcf5dea28a48e",
            "56e71604b8914ae7a7e22bcd0c1249a6",
            "0e05e93223524700b936af4a90145a7a",
            "fee50a9dd61f41d1a73bf0ac84410ba4",
            "d2f1f60a5a624dac9dd64c0a147cf264",
            "cf9a395a66174598b7727b00a9632fe4",
            "88f0722d13094c50a777e140b10538c8",
            "2a551f531a04472e97006e0e9ef7ebab",
            "a3be184c83aa437d89c4e6c5c5e2f277",
            "ab24426edb36426dbcd5ae0e4c96fb17",
            "bced5f635eaf4e09942b4fdedd142929",
            "1b1fa0f1b9b44fa78fd3d2671afb6459",
            "a81317eb460f49f9a86b2fccef6fa0ba",
            "daaa04eb8455453399979ac7fa9d9a73",
            "5cda8896846740509f3136a599c4d87a",
            "17101187e7ef4e4b9da948e0380841a6",
            "dcb84997ae984488b06e0890e57f4b39",
            "e2c38e70b3e04c08979c8704a835d4f9",
            "3f507fd359b74d6d990fe390469e79aa",
            "d151d5505a144b0486bcaed5d81d0e9a",
            "f8e942ad6c1b4e2886e38d1992de2826",
            "17903da327c64632bf7c763bffaba5ec",
            "daa15456a9e242c0a8db4b413809c777",
            "46368e4ec6224307880b0b4b50d7ee60",
            "ee970fb6bb0d462a84ebf993833c10ec",
            "80d1192efa174a3a95e409a0826166cf",
            "877972a490f341a98a70013650d392e7",
            "ea86c0d8f86d4b99b921e42ea525f68a",
            "766accc1cfff40c587f1cecc54c2fe28",
            "7684e67c41df43ee8947529fcc20f55a",
            "37cfe15076f14db0ae49d215cd3c40d5",
            "148c22743bda4e209dc2917857fe0b75",
            "bd928d5abfb849a0ba8a706005b72a3e"
          ]
        },
        "outputId": "f675825c-d962-44b0-c45c-faabf1daa583"
      },
      "outputs": [
        {
          "output_type": "stream",
          "name": "stderr",
          "text": [
            "/usr/local/lib/python3.10/dist-packages/huggingface_hub/utils/_token.py:88: UserWarning: \n",
            "The secret `HF_TOKEN` does not exist in your Colab secrets.\n",
            "To authenticate with the Hugging Face Hub, create a token in your settings tab (https://huggingface.co/settings/tokens), set it as secret in your Google Colab and restart your session.\n",
            "You will be able to reuse this secret in all of your notebooks.\n",
            "Please note that authentication is recommended but still optional to access public models or datasets.\n",
            "  warnings.warn(\n"
          ]
        },
        {
          "output_type": "display_data",
          "data": {
            "text/plain": [
              "tokenizer_config.json:   0%|          | 0.00/48.0 [00:00<?, ?B/s]"
            ],
            "application/vnd.jupyter.widget-view+json": {
              "version_major": 2,
              "version_minor": 0,
              "model_id": "252c8f660b3847e2a571f2f2625baf79"
            }
          },
          "metadata": {}
        },
        {
          "output_type": "display_data",
          "data": {
            "text/plain": [
              "vocab.txt:   0%|          | 0.00/232k [00:00<?, ?B/s]"
            ],
            "application/vnd.jupyter.widget-view+json": {
              "version_major": 2,
              "version_minor": 0,
              "model_id": "2b5c2b8f66bb4858bc0cb3d5eb6d8497"
            }
          },
          "metadata": {}
        },
        {
          "output_type": "display_data",
          "data": {
            "text/plain": [
              "tokenizer.json:   0%|          | 0.00/466k [00:00<?, ?B/s]"
            ],
            "application/vnd.jupyter.widget-view+json": {
              "version_major": 2,
              "version_minor": 0,
              "model_id": "4338d1ccee3e4fa3846dcf5dea28a48e"
            }
          },
          "metadata": {}
        },
        {
          "output_type": "display_data",
          "data": {
            "text/plain": [
              "config.json:   0%|          | 0.00/570 [00:00<?, ?B/s]"
            ],
            "application/vnd.jupyter.widget-view+json": {
              "version_major": 2,
              "version_minor": 0,
              "model_id": "1b1fa0f1b9b44fa78fd3d2671afb6459"
            }
          },
          "metadata": {}
        },
        {
          "output_type": "display_data",
          "data": {
            "text/plain": [
              "model.safetensors:   0%|          | 0.00/440M [00:00<?, ?B/s]"
            ],
            "application/vnd.jupyter.widget-view+json": {
              "version_major": 2,
              "version_minor": 0,
              "model_id": "daa15456a9e242c0a8db4b413809c777"
            }
          },
          "metadata": {}
        }
      ],
      "source": [
        "import torch\n",
        "from transformers import BertTokenizer, BertModel\n",
        "\n",
        "tokenizer = BertTokenizer.from_pretrained('bert-base-uncased')\n",
        "model = BertModel.from_pretrained(\"bert-base-uncased\", output_hidden_states=True)"
      ]
    },
    {
      "cell_type": "markdown",
      "metadata": {
        "id": "-BDfI_D27tQl"
      },
      "source": [
        "The cell below demonstrates how to input data into the `BERT` model and how to capture word embeddings from each layer."
      ]
    },
    {
      "cell_type": "code",
      "execution_count": null,
      "metadata": {
        "id": "-_ziH3XV7uM2",
        "colab": {
          "base_uri": "https://localhost:8080/"
        },
        "outputId": "8a4ccf5c-8809-44f4-8217-4c770d01025d"
      },
      "outputs": [
        {
          "output_type": "stream",
          "name": "stdout",
          "text": [
            "Num. of BERT layers: 13\n",
            "Dimensionality of each layer output (batch_size * num_tokens * embedding_dim):  torch.Size([1, 6, 768])\n"
          ]
        }
      ],
      "source": [
        "test_input = \"This is a test\"\n",
        "test_encodings = tokenizer(test_input, return_tensors='pt')\n",
        "output = model(**test_encodings)\n",
        "print(\"Num. of BERT layers:\", len(output[-1]))\n",
        "print(\"Dimensionality of each layer output (batch_size * num_tokens * embedding_dim): \", output[-1][0].size())"
      ]
    },
    {
      "cell_type": "markdown",
      "metadata": {
        "id": "sW3W66Hi7z_F"
      },
      "source": [
        "In this part, you should analyze the embeddings of the word **bat** in the output of each layer of the `BERT` model for the provided sentences. First, identify the location of the **bat** embedding within the output of each layer for both sentences. Next, calculate the `cosine similarity` between the **bat** embeddings for each layer. Finally, examine the similarity levels of the **bat** embeddings between the two sentences across the various layers of the `BERT` model."
      ]
    },
    {
      "cell_type": "code",
      "execution_count": null,
      "metadata": {
        "id": "PGwfHB7x71D-",
        "colab": {
          "base_uri": "https://localhost:8080/",
          "height": 547
        },
        "outputId": "2e740f77-6f62-4667-bba7-5080a00f4b61"
      },
      "outputs": [
        {
          "output_type": "stream",
          "name": "stdout",
          "text": [
            "Word embeddings for 'bat' in each layer of BERT:\n",
            "(size) Layer 1 : torch.Size([1, 768])\n",
            "(size) Layer 2 : torch.Size([1, 768])\n",
            "(size) Layer 3 : torch.Size([1, 768])\n",
            "(size) Layer 4 : torch.Size([1, 768])\n",
            "(size) Layer 5 : torch.Size([1, 768])\n",
            "(size) Layer 6 : torch.Size([1, 768])\n",
            "(size) Layer 7 : torch.Size([1, 768])\n",
            "(size) Layer 8 : torch.Size([1, 768])\n",
            "(size) Layer 9 : torch.Size([1, 768])\n",
            "(size) Layer 10: torch.Size([1, 768])\n",
            "(size) Layer 11: torch.Size([1, 768])\n",
            "(size) Layer 12: torch.Size([1, 768])\n",
            "(size) Layer 13: torch.Size([1, 768])\n",
            "\n",
            "Cosine similarity between 'bat' embeddings in each layer of BERT:\n",
            "(cosine) Layer 1: 0.957523\n",
            "(cosine) Layer 2: 0.833730\n",
            "(cosine) Layer 3: 0.790840\n",
            "(cosine) Layer 4: 0.752565\n",
            "(cosine) Layer 5: 0.681204\n",
            "(cosine) Layer 6: 0.668320\n",
            "(cosine) Layer 7: 0.669358\n",
            "(cosine) Layer 8: 0.656166\n",
            "(cosine) Layer 9: 0.639816\n",
            "(cosine) Layer 10: 0.619490\n",
            "(cosine) Layer 11: 0.618103\n",
            "(cosine) Layer 12: 0.632128\n",
            "(cosine) Layer 13: 0.568512\n"
          ]
        },
        {
          "output_type": "display_data",
          "data": {
            "text/plain": [
              "<Figure size 640x480 with 1 Axes>"
            ],
            "image/png": "[encoded data removed]"
          },
          "metadata": {}
        }
      ],
      "source": [
        "## WRITE YOUR CODE HERE!\n",
        "import torch\n",
        "import numpy as np\n",
        "import matplotlib.pyplot as plt\n",
        "\n",
        "def get_transformer_word_embedding(word: str, sentence: str, model: BertModel, tokenizer: BertTokenizer) -> torch.Tensor:\n",
        "    \"\"\"Get the embedding of a word in a sentence, considering BERT provided\"\"\"\n",
        "    encodings = tokenizer(sentence, return_tensors='pt')\n",
        "    outputs = model(**encodings)\n",
        "    token_ids = encodings['input_ids'][0]\n",
        "    w_id = tokenizer.convert_tokens_to_ids(word)\n",
        "    word_positions = [i for i, token_id in enumerate(token_ids) if token_id == w_id]\n",
        "    hidden_states = outputs.hidden_states\n",
        "\n",
        "    embeddings = []\n",
        "    for layer_output in hidden_states:\n",
        "        layer_embeddings = torch.stack([layer_output[0, idx, :] for idx in word_positions])\n",
        "        embeddings.append(layer_embeddings)\n",
        "    embeddings = torch.stack(embeddings, dim=0)\n",
        "\n",
        "    return embeddings\n",
        "\n",
        "def calculate_cosine_similarity(v1: torch.Tensor, v2: torch.Tensor) -> float:\n",
        "    \"\"\"calculate the cosine similarity between two vectors\"\"\"\n",
        "    return torch.nn.functional.cosine_similarity(v1, v2).mean().item()\n",
        "\n",
        "def analyze_word_embeddings(word: str, sentences: list[str], model: BertModel, tokenizer: BertTokenizer):\n",
        "    \"\"\"analyze the embeddings of a word in the output of each layer of the BERT model for the provided sentences\"\"\"\n",
        "    word_embeddings = {sentence: get_transformer_word_embedding(word, sentence, model, tokenizer) for sentence in sentences}\n",
        "    print(f\"Word embeddings for '{word}' in each layer of BERT:\")\n",
        "    for idx, word_embedding in enumerate(word_embeddings[sentences[0]], start=1):\n",
        "        print(f\"(size) Layer {idx:<2}: {word_embedding.size()}\")\n",
        "    print()\n",
        "    print(f\"Cosine similarity between '{word}' embeddings in each layer of BERT:\")\n",
        "    similarities = {\n",
        "        \"s1\": [],\n",
        "        \"s2\": [],\n",
        "        \"s1-s2\": [],\n",
        "    }\n",
        "    itr = zip(word_embeddings[sentences[0]], word_embeddings[sentences[1]])\n",
        "    for layer_idx, (we1, we2) in enumerate(itr):\n",
        "        similarity = calculate_cosine_similarity(we1, we2)\n",
        "        print(f\"(cosine) Layer {layer_idx + 1}: {similarity:.6f}\")\n",
        "        similarities[\"s1-s2\"].append(similarity)\n",
        "    itr = zip(word_embeddings[sentences[0]][:-1], word_embeddings[sentences[0]][1:])\n",
        "    for layer_idx, (we1, we2) in enumerate(itr):\n",
        "        similarity = calculate_cosine_similarity(we1, we2)\n",
        "        similarities[\"s1\"].append(similarity)\n",
        "    itr = zip(word_embeddings[sentences[1]][:-1], word_embeddings[sentences[1]][1:])\n",
        "    for layer_idx, (we1, we2) in enumerate(itr):\n",
        "        similarity = calculate_cosine_similarity(we1, we2)\n",
        "        similarities[\"s2\"].append(similarity)\n",
        "\n",
        "    # Plot similarity\n",
        "    fig, ax = plt.subplots()\n",
        "    colors = ['#DC143C', '#069AF3', '#9ACD32']\n",
        "    vec = similarities[\"s1-s2\"]\n",
        "    ax.plot(range(len(vec)), vec, marker=\".\", color=colors[0], linestyle='--', label=\"Sen-1 and Sen2(same layers)\")\n",
        "    vec = similarities[\"s1\"]\n",
        "    ax.plot(range(len(vec)), vec, marker=\".\", color=colors[1], linestyle='--', label=\"Sen-1(consecutive layers)\")\n",
        "    vec = similarities[\"s2\"]\n",
        "    ax.plot(range(len(vec)), vec, marker=\".\", color=colors[2], linestyle='--', label=\"Sen-2(consecutive layers)\")\n",
        "    ax.set_ylim(0, 1)\n",
        "    ax.set_ylabel(\"Cosine similarity\")\n",
        "    ax.set_title(\"Examining WR in different BERT's layers\")\n",
        "    ax.legend()\n",
        "    plt.show()\n",
        "\n",
        "sentences = [\n",
        "    \"The bat flew swiftly through the air.\",\n",
        "    \"He grabbed his bat and headed to the baseball field.\"\n",
        "]\n",
        "analyze_word_embeddings(\"bat\", sentences, model, tokenizer)"
      ]
    },
    {
      "cell_type": "markdown",
      "metadata": {
        "id": "YgP6DU-y8Ap9"
      },
      "source": [
        "Do the same for **charge** provided sentences."
      ]
    },
    {
      "cell_type": "code",
      "execution_count": null,
      "metadata": {
        "id": "CP2buXR98BNl",
        "colab": {
          "base_uri": "https://localhost:8080/",
          "height": 547
        },
        "outputId": "97691dc5-5cf0-47b9-8d20-e5a683e0ec04"
      },
      "outputs": [
        {
          "output_type": "stream",
          "name": "stdout",
          "text": [
            "Word embeddings for 'charge' in each layer of BERT:\n",
            "(size) Layer 1 : torch.Size([1, 768])\n",
            "(size) Layer 2 : torch.Size([1, 768])\n",
            "(size) Layer 3 : torch.Size([1, 768])\n",
            "(size) Layer 4 : torch.Size([1, 768])\n",
            "(size) Layer 5 : torch.Size([1, 768])\n",
            "(size) Layer 6 : torch.Size([1, 768])\n",
            "(size) Layer 7 : torch.Size([1, 768])\n",
            "(size) Layer 8 : torch.Size([1, 768])\n",
            "(size) Layer 9 : torch.Size([1, 768])\n",
            "(size) Layer 10: torch.Size([1, 768])\n",
            "(size) Layer 11: torch.Size([1, 768])\n",
            "(size) Layer 12: torch.Size([1, 768])\n",
            "(size) Layer 13: torch.Size([1, 768])\n",
            "\n",
            "Cosine similarity between 'charge' embeddings in each layer of BERT:\n",
            "(cosine) Layer 1: 0.973695\n",
            "(cosine) Layer 2: 0.749343\n",
            "(cosine) Layer 3: 0.669290\n",
            "(cosine) Layer 4: 0.577310\n",
            "(cosine) Layer 5: 0.484223\n",
            "(cosine) Layer 6: 0.457412\n",
            "(cosine) Layer 7: 0.391742\n",
            "(cosine) Layer 8: 0.399647\n",
            "(cosine) Layer 9: 0.338181\n",
            "(cosine) Layer 10: 0.338186\n",
            "(cosine) Layer 11: 0.366591\n",
            "(cosine) Layer 12: 0.426040\n",
            "(cosine) Layer 13: 0.370317\n"
          ]
        },
        {
          "output_type": "display_data",
          "data": {
            "text/plain": [
              "<Figure size 640x480 with 1 Axes>"
            ],
            "image/png": "[encoded data removed]"
          },
          "metadata": {}
        }
      ],
      "source": [
        "## WRITE YOUR CODE HERE!\n",
        "sentences = [\n",
        "    \"I need to charge my phone before leaving.\",\n",
        "    \"He was arrested for charge of theft.\"\n",
        "]\n",
        "\n",
        "analyze_word_embeddings(\"charge\", sentences, model, tokenizer)"
      ]
    },
    {
      "cell_type": "markdown",
      "metadata": {
        "id": "-f_4s-_c8DI1"
      },
      "source": [
        "Write a few sentences about your results and how `BERT` captures the contextual meaning of words.\n",
        "\n"
      ]
    },
    {
      "cell_type": "markdown",
      "metadata": {
        "id": "fzYP8ShGO7Fv"
      },
      "source": [
        "***WRITE YOUR ANSWER HERE***"
      ]
    },
    {
      "cell_type": "markdown",
      "metadata": {
        "id": "2bI3GUhR8Ydu"
      },
      "source": [
        "### Question 1.4 (10 points)\n",
        "In this part, we will use `BERT` for masked word completion task. Run the following cell to download the pretrained BERT base model (cased)."
      ]
    },
    {
      "cell_type": "code",
      "execution_count": null,
      "metadata": {
        "id": "_G7eW-n_8khd",
        "colab": {
          "base_uri": "https://localhost:8080/"
        },
        "outputId": "bf8c7319-ce53-4cbb-8ec3-26a8e1ad82e7"
      },
      "outputs": [
        {
          "output_type": "stream",
          "name": "stderr",
          "text": [
            "Some weights of the model checkpoint at bert-base-uncased were not used when initializing BertForMaskedLM: ['bert.pooler.dense.bias', 'bert.pooler.dense.weight', 'cls.seq_relationship.bias', 'cls.seq_relationship.weight']\n",
            "- This IS expected if you are initializing BertForMaskedLM from the checkpoint of a model trained on another task or with another architecture (e.g. initializing a BertForSequenceClassification model from a BertForPreTraining model).\n",
            "- This IS NOT expected if you are initializing BertForMaskedLM from the checkpoint of a model that you expect to be exactly identical (initializing a BertForSequenceClassification model from a BertForSequenceClassification model).\n"
          ]
        }
      ],
      "source": [
        "from transformers import AutoTokenizer, AutoModelForMaskedLM\n",
        "\n",
        "tokenizer = AutoTokenizer.from_pretrained(\"bert-base-uncased\")\n",
        "model = AutoModelForMaskedLM.from_pretrained(\"bert-base-uncased\")"
      ]
    },
    {
      "cell_type": "markdown",
      "metadata": {
        "id": "sJUwtMHE8nOh"
      },
      "source": [
        "Let's challenge `BERT`'s knowledge about named entities. Consider the following sentences\n",
        "- **William Shakespeare**, widely regarded as the greatest writer in the English language, was born in Stratford-upon-Avon, England, in 1564.\n",
        "- The Amazon Rainforest, spanning across nine countries in **South America**,\n",
        "is the largest tropical rainforest on Earth, covering an area of over 6.7\n",
        "million square kilometers (2.7 million square miles) and harboring\n",
        "unparalleled biodiversity.\n",
        "- The Statue of Liberty, a gift from **France** to the United States, was dedicated\n",
        "on October 28, 1886. Standing on Liberty Island in New York Harbor, it\n",
        "symbolizes freedom and democracy and has become a universal symbol of hope and\n",
        "opportunity.\n",
        "\n",
        "Replace the bold words with the mask token (if they are more than one token, put as many as needed). Write down the top 5 choices of BERT for the mask tokens. In this part, you should use `token_logits`.\n",
        "\n",
        "*Hints*\n",
        "\n",
        "- Use `torch.where` to find the index of a masked token within the input tensor (note that `tokenizer.mask_token_id` gives us the index of the mask token in the vocabulary).\n",
        "- Use `torch.topk` to get the k largest elements of a given tensor along a given dimension.\n",
        "- Use `tokenizer.decode([token_id])` to convert a single integer `token_id` to a token string."
      ]
    },
    {
      "cell_type": "code",
      "execution_count": null,
      "metadata": {
        "id": "_03N5Ie58oFV",
        "colab": {
          "base_uri": "https://localhost:8080/"
        },
        "outputId": "f4476910-5b74-4efe-ff6c-3c9e08ec1f75"
      },
      "outputs": [
        {
          "output_type": "stream",
          "name": "stdout",
          "text": [
            ">>>> Input String:\n",
            "[CLS] [MASK] [MASK], widely regarded as the greatest writer in the english language, was\n",
            "born in stratford - upon - avon, england, in 1564. [SEP]\n",
            "\n",
            "---- Masked string:\n",
            "William Shakespeare\n",
            "\n",
            "++++ Predicted tokens:\n",
            "(1): thomas    | shakespeare\n",
            "(2): william   | scott     \n",
            "(3): edmund    | johnson   \n",
            "(4): samuel    | shelley   \n",
            "(5): henry     | moore     \n",
            "\n",
            ">>>> Input String:\n",
            "[CLS] the amazon rainforest, spanning across nine countries in [MASK] [MASK], is the\n",
            "largest tropical rainforest on earth, covering an area of over 6. 7 million square\n",
            "kilometers ( 2. 7 million square miles ) and harboring unparalleled biodiversity. [SEP]\n",
            "\n",
            "---- Masked string:\n",
            "South America\n",
            "\n",
            "++++ Predicted tokens:\n",
            "(1): the       | africa    \n",
            "(2): africa    | world     \n",
            "(3): asia      | asia      \n",
            "(4): global    | brazil    \n",
            "(5): modern    | amazon    \n",
            "\n",
            ">>>> Input String:\n",
            "[CLS] the statue of liberty, a gift from [MASK] to the united states, was dedicated on\n",
            "october 28, 1886. standing on liberty island in new york harbor, it symbolizes freedom and\n",
            "democracy and has become a universal symbol of hope and opportunity. [SEP]\n",
            "\n",
            "---- Masked string:\n",
            "France\n",
            "\n",
            "++++ Predicted tokens:\n",
            "(1): england   \n",
            "(2): france    \n",
            "(3): britain   \n",
            "(4): germany   \n",
            "(5): ireland   \n",
            "\n"
          ]
        }
      ],
      "source": [
        "## WRITE YOUR CODE HERE!\n",
        "import torch\n",
        "import numpy as np\n",
        "import textwrap\n",
        "\n",
        "@torch.no_grad()\n",
        "def mask_and_predict(sentence: str, str_to_mask: str, model: AutoModelForMaskedLM, tokenizer: AutoTokenizer, topk=5):\n",
        "    \"\"\"mask a word in a sentence and predict the topk choices, considering BERT provided\"\"\"\n",
        "    mask_token = tokenizer.mask_token\n",
        "    mask_token_id = tokenizer.mask_token_id\n",
        "    inputs = tokenizer(sentence, return_tensors=\"pt\")\n",
        "    input_ids = inputs[\"input_ids\"]\n",
        "\n",
        "    str_to_mask_tokens = tokenizer.tokenize(str_to_mask)\n",
        "    num_tokens_to_mask = len(str_to_mask_tokens)\n",
        "    mask_idx = torch.where(input_ids == tokenizer.convert_tokens_to_ids(str_to_mask_tokens[0]))[1]\n",
        "    input_ids[0, mask_idx:mask_idx + num_tokens_to_mask] = mask_token_id\n",
        "    masked_input = tokenizer.decode(input_ids[0])\n",
        "\n",
        "    outputs = model(input_ids)\n",
        "    logits = outputs.logits\n",
        "\n",
        "    topk_tokens_set = []\n",
        "    for i in range(num_tokens_to_mask):\n",
        "      mask_logits = logits[0, mask_idx[0]+i]\n",
        "      topk_tokens = torch.topk(mask_logits, topk).indices\n",
        "      topk_tokens = [tokenizer.decode([token_id]) for token_id in topk_tokens]\n",
        "      topk_tokens_set.append(topk_tokens)\n",
        "    return topk_tokens_set, masked_input\n",
        "\n",
        "sentences_and_mask = [\n",
        "    (\"William Shakespeare, widely regarded as the greatest writer in the English language, was born in Stratford-upon-Avon, England, in 1564.\", \"William Shakespeare\"),\n",
        "    (\"The Amazon Rainforest, spanning across nine countries in South America, is the largest tropical rainforest on Earth, covering an area of over 6.7 million square kilometers (2.7 million square miles) and harboring unparalleled biodiversity.\", \"South America\"),\n",
        "    (\"The Statue of Liberty, a gift from France to the United States, was dedicated on October 28, 1886. Standing on Liberty Island in New York Harbor, it symbolizes freedom and democracy and has become a universal symbol of hope and opportunity.\", \"France\")\n",
        "]\n",
        "for sentence, str_to_mask in sentences_and_mask:\n",
        "    topk_tokens_set, masked_input = mask_and_predict(sentence, str_to_mask, model, tokenizer)\n",
        "    paired_list = list(zip(*topk_tokens_set))\n",
        "    paired_list_numbered = '\\n'.join([f\"({i}): {'| '.join([f'{i:<10}'for i in lst])}\" for i , lst in enumerate(paired_list, start=1)])\n",
        "    print(f\"\"\"\\\n",
        ">>>> Input String:\n",
        "{textwrap.fill(masked_input, 90)}\n",
        "\n",
        "---- Masked string:\n",
        "{str_to_mask}\n",
        "\n",
        "++++ Predicted tokens:\n",
        "{paired_list_numbered}\n",
        "\"\"\")\n"
      ]
    },
    {
      "cell_type": "markdown",
      "metadata": {
        "id": "dQ1x5vcH8pu1"
      },
      "source": [
        "Write a few sentences about your results and how masked language modeling works."
      ]
    },
    {
      "cell_type": "markdown",
      "metadata": {
        "id": "niH2-d-4OuX5"
      },
      "source": [
        "***WRITE YOUR ANSWER HERE***"
      ]
    },
    {
      "cell_type": "markdown",
      "metadata": {
        "id": "ez253CdmAMd7"
      },
      "source": [
        "# Part 2: Transfer Learning with BERT (60 points)"
      ]
    },
    {
      "cell_type": "markdown",
      "metadata": {
        "id": "N25dvF4jvYoy"
      },
      "source": [
        "## Adding a hardware accelerator\n",
        "\n",
        "Please go to the menu and add a GPU as follows:\n",
        "\n",
        "`Edit > Notebook Settings > Hardware accelerator > (GPU)`\n",
        "\n",
        "Run the following cell to confirm that the GPU is detected."
      ]
    },
    {
      "cell_type": "code",
      "execution_count": null,
      "metadata": {
        "id": "edOh9ooiIW1B",
        "colab": {
          "base_uri": "https://localhost:8080/"
        },
        "outputId": "3540fe48-8c50-4cb9-8826-93057da30dd1"
      },
      "outputs": [
        {
          "output_type": "stream",
          "name": "stdout",
          "text": [
            "Found device: Tesla T4, n_gpu: 1\n"
          ]
        }
      ],
      "source": [
        "import torch\n",
        "\n",
        "# Confirm that the GPU is detected\n",
        "\n",
        "assert torch.cuda.is_available()\n",
        "\n",
        "# Get the GPU device name.\n",
        "device_name = torch.cuda.get_device_name()\n",
        "n_gpu = torch.cuda.device_count()\n",
        "print(f\"Found device: {device_name}, n_gpu: {n_gpu}\")"
      ]
    },
    {
      "cell_type": "markdown",
      "metadata": {
        "id": "xrvH7xx9LnMC"
      },
      "source": [
        "## Installing Hugging Face's Transformers library\n",
        "We will use Hugging Face's Transformers (https://github.com/huggingface/transformers), an open-source library that provides general-purpose architectures for natural language understanding and generation with a collection of various pretrained models made by the NLP community. This library will allow us to easily use pretrained models like `BERT` and perform experiments on top of them. We can use these models to solve downstream target tasks, such as text classification, question answering, and sequence labeling.\n",
        "\n",
        "Run the following cell to install Hugging Face's Transformers library, download data and supporting code for the homework, and install some additional packages. Note that you will be asked to link with your Google Drive account to download some of these files."
      ]
    },
    {
      "cell_type": "code",
      "execution_count": null,
      "metadata": {
        "id": "gtqS2e5fxpqa",
        "colab": {
          "base_uri": "https://localhost:8080/",
          "height": 1000
        },
        "outputId": "feba6ef3-9807-456b-82dc-9946a8ab3312"
      },
      "outputs": [
        {
          "output_type": "stream",
          "name": "stdout",
          "text": [
            "Collecting git+https://github.com/huggingface/accelerate\n",
            "  Cloning https://github.com/huggingface/accelerate to /tmp/pip-req-build-sik848d6\n",
            "  Running command git clone --filter=blob:none --quiet https://github.com/huggingface/accelerate /tmp/pip-req-build-sik848d6\n",
            "  Resolved https://github.com/huggingface/accelerate to commit d927b8f3a2ee811a60dbd83d8f12193512b73fc3\n",
            "  Installing build dependencies ... \u001b[?25l\u001b[?25hdone\n",
            "  Getting requirements to build wheel ... \u001b[?25l\u001b[?25hdone\n",
            "  Preparing metadata (pyproject.toml) ... \u001b[?25l\u001b[?25hdone\n",
            "Requirement already satisfied: numpy>=1.17 in /usr/local/lib/python3.10/dist-packages (from accelerate==0.29.0.dev0) (1.25.2)\n",
            "Requirement already satisfied: packaging>=20.0 in /usr/local/lib/python3.10/dist-packages (from accelerate==0.29.0.dev0) (24.0)\n",
            "Requirement already satisfied: psutil in /usr/local/lib/python3.10/dist-packages (from accelerate==0.29.0.dev0) (5.9.5)\n",
            "Requirement already satisfied: pyyaml in /usr/local/lib/python3.10/dist-packages (from accelerate==0.29.0.dev0) (6.0.1)\n",
            "Requirement already satisfied: torch>=1.10.0 in /usr/local/lib/python3.10/dist-packages (from accelerate==0.29.0.dev0) (2.2.1+cu121)\n",
            "Requirement already satisfied: huggingface-hub<0.21.0 in /usr/local/lib/python3.10/dist-packages (from accelerate==0.29.0.dev0) (0.20.3)\n",
            "Requirement already satisfied: safetensors>=0.3.1 in /usr/local/lib/python3.10/dist-packages (from accelerate==0.29.0.dev0) (0.4.2)\n",
            "Requirement already satisfied: filelock in /usr/local/lib/python3.10/dist-packages (from huggingface-hub<0.21.0->accelerate==0.29.0.dev0) (3.13.3)\n",
            "Requirement already satisfied: fsspec>=2023.5.0 in /usr/local/lib/python3.10/dist-packages (from huggingface-hub<0.21.0->accelerate==0.29.0.dev0) (2023.6.0)\n",
            "Requirement already satisfied: requests in /usr/local/lib/python3.10/dist-packages (from huggingface-hub<0.21.0->accelerate==0.29.0.dev0) (2.31.0)\n",
            "Requirement already satisfied: tqdm>=4.42.1 in /usr/local/lib/python3.10/dist-packages (from huggingface-hub<0.21.0->accelerate==0.29.0.dev0) (4.66.2)\n",
            "Requirement already satisfied: typing-extensions>=3.7.4.3 in /usr/local/lib/python3.10/dist-packages (from huggingface-hub<0.21.0->accelerate==0.29.0.dev0) (4.10.0)\n",
            "Requirement already satisfied: sympy in /usr/local/lib/python3.10/dist-packages (from torch>=1.10.0->accelerate==0.29.0.dev0) (1.12)\n",
            "Requirement already satisfied: networkx in /usr/local/lib/python3.10/dist-packages (from torch>=1.10.0->accelerate==0.29.0.dev0) (3.2.1)\n",
            "Requirement already satisfied: jinja2 in /usr/local/lib/python3.10/dist-packages (from torch>=1.10.0->accelerate==0.29.0.dev0) (3.1.3)\n",
            "Collecting nvidia-cuda-nvrtc-cu12==12.1.105 (from torch>=1.10.0->accelerate==0.29.0.dev0)\n",
            "  Downloading nvidia_cuda_nvrtc_cu12-12.1.105-py3-none-manylinux1_x86_64.whl (23.7 MB)\n",
            "\u001b[2K     \u001b[90m━━━━━━━━━━━━━━━━━━━━━━━━━━━━━━━━━━━━━━━━\u001b[0m \u001b[32m23.7/23.7 MB\u001b[0m \u001b[31m43.2 MB/s\u001b[0m eta \u001b[36m0:00:00\u001b[0m\n",
            "\u001b[?25hCollecting nvidia-cuda-runtime-cu12==12.1.105 (from torch>=1.10.0->accelerate==0.29.0.dev0)\n",
            "  Downloading nvidia_cuda_runtime_cu12-12.1.105-py3-none-manylinux1_x86_64.whl (823 kB)\n",
            "\u001b[2K     \u001b[90m━━━━━━━━━━━━━━━━━━━━━━━━━━━━━━━━━━━━━━━━\u001b[0m \u001b[32m823.6/823.6 kB\u001b[0m \u001b[31m51.9 MB/s\u001b[0m eta \u001b[36m0:00:00\u001b[0m\n",
            "\u001b[?25hCollecting nvidia-cuda-cupti-cu12==12.1.105 (from torch>=1.10.0->accelerate==0.29.0.dev0)\n",
            "  Downloading nvidia_cuda_cupti_cu12-12.1.105-py3-none-manylinux1_x86_64.whl (14.1 MB)\n",
            "\u001b[2K     \u001b[90m━━━━━━━━━━━━━━━━━━━━━━━━━━━━━━━━━━━━━━━━\u001b[0m \u001b[32m14.1/14.1 MB\u001b[0m \u001b[31m52.1 MB/s\u001b[0m eta \u001b[36m0:00:00\u001b[0m\n",
            "\u001b[?25hCollecting nvidia-cudnn-cu12==8.9.2.26 (from torch>=1.10.0->accelerate==0.29.0.dev0)\n",
            "  Downloading nvidia_cudnn_cu12-8.9.2.26-py3-none-manylinux1_x86_64.whl (731.7 MB)\n",
            "\u001b[2K     \u001b[90m━━━━━━━━━━━━━━━━━━━━━━━━━━━━━━━━━━━━━━━━\u001b[0m \u001b[32m731.7/731.7 MB\u001b[0m \u001b[31m2.1 MB/s\u001b[0m eta \u001b[36m0:00:00\u001b[0m\n",
            "\u001b[?25hCollecting nvidia-cublas-cu12==12.1.3.1 (from torch>=1.10.0->accelerate==0.29.0.dev0)\n",
            "  Downloading nvidia_cublas_cu12-12.1.3.1-py3-none-manylinux1_x86_64.whl (410.6 MB)\n",
            "\u001b[2K     \u001b[90m━━━━━━━━━━━━━━━━━━━━━━━━━━━━━━━━━━━━━━━━\u001b[0m \u001b[32m410.6/410.6 MB\u001b[0m \u001b[31m2.7 MB/s\u001b[0m eta \u001b[36m0:00:00\u001b[0m\n",
            "\u001b[?25hCollecting nvidia-cufft-cu12==11.0.2.54 (from torch>=1.10.0->accelerate==0.29.0.dev0)\n",
            "  Downloading nvidia_cufft_cu12-11.0.2.54-py3-none-manylinux1_x86_64.whl (121.6 MB)\n",
            "\u001b[2K     \u001b[90m━━━━━━━━━━━━━━━━━━━━━━━━━━━━━━━━━━━━━━━━\u001b[0m \u001b[32m121.6/121.6 MB\u001b[0m \u001b[31m7.8 MB/s\u001b[0m eta \u001b[36m0:00:00\u001b[0m\n",
            "\u001b[?25hCollecting nvidia-curand-cu12==10.3.2.106 (from torch>=1.10.0->accelerate==0.29.0.dev0)\n",
            "  Downloading nvidia_curand_cu12-10.3.2.106-py3-none-manylinux1_x86_64.whl (56.5 MB)\n",
            "\u001b[2K     \u001b[90m━━━━━━━━━━━━━━━━━━━━━━━━━━━━━━━━━━━━━━━━\u001b[0m \u001b[32m56.5/56.5 MB\u001b[0m \u001b[31m9.3 MB/s\u001b[0m eta \u001b[36m0:00:00\u001b[0m\n",
            "\u001b[?25hCollecting nvidia-cusolver-cu12==11.4.5.107 (from torch>=1.10.0->accelerate==0.29.0.dev0)\n",
            "  Downloading nvidia_cusolver_cu12-11.4.5.107-py3-none-manylinux1_x86_64.whl (124.2 MB)\n",
            "\u001b[2K     \u001b[90m━━━━━━━━━━━━━━━━━━━━━━━━━━━━━━━━━━━━━━━━\u001b[0m \u001b[32m124.2/124.2 MB\u001b[0m \u001b[31m7.1 MB/s\u001b[0m eta \u001b[36m0:00:00\u001b[0m\n",
            "\u001b[?25hCollecting nvidia-cusparse-cu12==12.1.0.106 (from torch>=1.10.0->accelerate==0.29.0.dev0)\n",
            "  Downloading nvidia_cusparse_cu12-12.1.0.106-py3-none-manylinux1_x86_64.whl (196.0 MB)\n",
            "\u001b[2K     \u001b[90m━━━━━━━━━━━━━━━━━━━━━━━━━━━━━━━━━━━━━━━━\u001b[0m \u001b[32m196.0/196.0 MB\u001b[0m \u001b[31m2.8 MB/s\u001b[0m eta \u001b[36m0:00:00\u001b[0m\n",
            "\u001b[?25hCollecting nvidia-nccl-cu12==2.19.3 (from torch>=1.10.0->accelerate==0.29.0.dev0)\n",
            "  Downloading nvidia_nccl_cu12-2.19.3-py3-none-manylinux1_x86_64.whl (166.0 MB)\n",
            "\u001b[2K     \u001b[90m━━━━━━━━━━━━━━━━━━━━━━━━━━━━━━━━━━━━━━━━\u001b[0m \u001b[32m166.0/166.0 MB\u001b[0m \u001b[31m7.2 MB/s\u001b[0m eta \u001b[36m0:00:00\u001b[0m\n",
            "\u001b[?25hCollecting nvidia-nvtx-cu12==12.1.105 (from torch>=1.10.0->accelerate==0.29.0.dev0)\n",
            "  Downloading nvidia_nvtx_cu12-12.1.105-py3-none-manylinux1_x86_64.whl (99 kB)\n",
            "\u001b[2K     \u001b[90m━━━━━━━━━━━━━━━━━━━━━━━━━━━━━━━━━━━━━━━━\u001b[0m \u001b[32m99.1/99.1 kB\u001b[0m \u001b[31m14.2 MB/s\u001b[0m eta \u001b[36m0:00:00\u001b[0m\n",
            "\u001b[?25hRequirement already satisfied: triton==2.2.0 in /usr/local/lib/python3.10/dist-packages (from torch>=1.10.0->accelerate==0.29.0.dev0) (2.2.0)\n",
            "Collecting nvidia-nvjitlink-cu12 (from nvidia-cusolver-cu12==11.4.5.107->torch>=1.10.0->accelerate==0.29.0.dev0)\n",
            "  Downloading nvidia_nvjitlink_cu12-12.4.99-py3-none-manylinux2014_x86_64.whl (21.1 MB)\n",
            "\u001b[2K     \u001b[90m━━━━━━━━━━━━━━━━━━━━━━━━━━━━━━━━━━━━━━━━\u001b[0m \u001b[32m21.1/21.1 MB\u001b[0m \u001b[31m77.9 MB/s\u001b[0m eta \u001b[36m0:00:00\u001b[0m\n",
            "\u001b[?25hRequirement already satisfied: MarkupSafe>=2.0 in /usr/local/lib/python3.10/dist-packages (from jinja2->torch>=1.10.0->accelerate==0.29.0.dev0) (2.1.5)\n",
            "Requirement already satisfied: charset-normalizer<4,>=2 in /usr/local/lib/python3.10/dist-packages (from requests->huggingface-hub<0.21.0->accelerate==0.29.0.dev0) (3.3.2)\n",
            "Requirement already satisfied: idna<4,>=2.5 in /usr/local/lib/python3.10/dist-packages (from requests->huggingface-hub<0.21.0->accelerate==0.29.0.dev0) (3.6)\n",
            "Requirement already satisfied: urllib3<3,>=1.21.1 in /usr/local/lib/python3.10/dist-packages (from requests->huggingface-hub<0.21.0->accelerate==0.29.0.dev0) (2.0.7)\n",
            "Requirement already satisfied: certifi>=2017.4.17 in /usr/local/lib/python3.10/dist-packages (from requests->huggingface-hub<0.21.0->accelerate==0.29.0.dev0) (2024.2.2)\n",
            "Requirement already satisfied: mpmath>=0.19 in /usr/local/lib/python3.10/dist-packages (from sympy->torch>=1.10.0->accelerate==0.29.0.dev0) (1.3.0)\n",
            "Building wheels for collected packages: accelerate\n",
            "  Building wheel for accelerate (pyproject.toml) ... \u001b[?25l\u001b[?25hdone\n",
            "  Created wheel for accelerate: filename=accelerate-0.29.0.dev0-py3-none-any.whl size=297247 sha256=d958004be4096570a75e2505e67d3cb0255ce6f24b43a02cb8d8482686a5aff4\n",
            "  Stored in directory: /tmp/pip-ephem-wheel-cache-rfbe0gdz/wheels/f6/c7/9d/1b8a5ca8353d9307733bc719107acb67acdc95063bba749f26\n",
            "Successfully built accelerate\n",
            "Installing collected packages: nvidia-nvtx-cu12, nvidia-nvjitlink-cu12, nvidia-nccl-cu12, nvidia-curand-cu12, nvidia-cufft-cu12, nvidia-cuda-runtime-cu12, nvidia-cuda-nvrtc-cu12, nvidia-cuda-cupti-cu12, nvidia-cublas-cu12, nvidia-cusparse-cu12, nvidia-cudnn-cu12, nvidia-cusolver-cu12, accelerate\n",
            "Successfully installed accelerate-0.29.0.dev0 nvidia-cublas-cu12-12.1.3.1 nvidia-cuda-cupti-cu12-12.1.105 nvidia-cuda-nvrtc-cu12-12.1.105 nvidia-cuda-runtime-cu12-12.1.105 nvidia-cudnn-cu12-8.9.2.26 nvidia-cufft-cu12-11.0.2.54 nvidia-curand-cu12-10.3.2.106 nvidia-cusolver-cu12-11.4.5.107 nvidia-cusparse-cu12-12.1.0.106 nvidia-nccl-cu12-2.19.3 nvidia-nvjitlink-cu12-12.4.99 nvidia-nvtx-cu12-12.1.105\n",
            "Requirement already satisfied: transformers in /usr/local/lib/python3.10/dist-packages (4.38.2)\n",
            "Requirement already satisfied: filelock in /usr/local/lib/python3.10/dist-packages (from transformers) (3.13.3)\n",
            "Requirement already satisfied: huggingface-hub<1.0,>=0.19.3 in /usr/local/lib/python3.10/dist-packages (from transformers) (0.20.3)\n",
            "Requirement already satisfied: numpy>=1.17 in /usr/local/lib/python3.10/dist-packages (from transformers) (1.25.2)\n",
            "Requirement already satisfied: packaging>=20.0 in /usr/local/lib/python3.10/dist-packages (from transformers) (24.0)\n",
            "Requirement already satisfied: pyyaml>=5.1 in /usr/local/lib/python3.10/dist-packages (from transformers) (6.0.1)\n",
            "Requirement already satisfied: regex!=2019.12.17 in /usr/local/lib/python3.10/dist-packages (from transformers) (2023.12.25)\n",
            "Requirement already satisfied: requests in /usr/local/lib/python3.10/dist-packages (from transformers) (2.31.0)\n",
            "Requirement already satisfied: tokenizers<0.19,>=0.14 in /usr/local/lib/python3.10/dist-packages (from transformers) (0.15.2)\n",
            "Requirement already satisfied: safetensors>=0.4.1 in /usr/local/lib/python3.10/dist-packages (from transformers) (0.4.2)\n",
            "Requirement already satisfied: tqdm>=4.27 in /usr/local/lib/python3.10/dist-packages (from transformers) (4.66.2)\n",
            "Requirement already satisfied: fsspec>=2023.5.0 in /usr/local/lib/python3.10/dist-packages (from huggingface-hub<1.0,>=0.19.3->transformers) (2023.6.0)\n",
            "Requirement already satisfied: typing-extensions>=3.7.4.3 in /usr/local/lib/python3.10/dist-packages (from huggingface-hub<1.0,>=0.19.3->transformers) (4.10.0)\n",
            "Requirement already satisfied: charset-normalizer<4,>=2 in /usr/local/lib/python3.10/dist-packages (from requests->transformers) (3.3.2)\n",
            "Requirement already satisfied: idna<4,>=2.5 in /usr/local/lib/python3.10/dist-packages (from requests->transformers) (3.6)\n",
            "Requirement already satisfied: urllib3<3,>=1.21.1 in /usr/local/lib/python3.10/dist-packages (from requests->transformers) (2.0.7)\n",
            "Requirement already satisfied: certifi>=2017.4.17 in /usr/local/lib/python3.10/dist-packages (from requests->transformers) (2024.2.2)\n"
          ]
        },
        {
          "output_type": "stream",
          "name": "stderr",
          "text": [
            "WARNING:root:pydrive is deprecated and no longer maintained. We recommend that you migrate your projects to pydrive2, the maintained fork of pydrive\n"
          ]
        },
        {
          "output_type": "stream",
          "name": "stdout",
          "text": [
            "success!\n",
            "Data and supporting code downloaded!\n",
            "model directory created\n",
            "Collecting seqeval (from -r requirements.txt (line 1))\n",
            "  Downloading seqeval-1.2.2.tar.gz (43 kB)\n",
            "\u001b[2K     \u001b[90m━━━━━━━━━━━━━━━━━━━━━━━━━━━━━━━━━━━━━━━━\u001b[0m \u001b[32m43.6/43.6 kB\u001b[0m \u001b[31m1.8 MB/s\u001b[0m eta \u001b[36m0:00:00\u001b[0m\n",
            "\u001b[?25h  Preparing metadata (setup.py) ... \u001b[?25l\u001b[?25hdone\n",
            "Collecting conllu (from -r requirements.txt (line 2))\n",
            "  Downloading conllu-4.5.3-py2.py3-none-any.whl (16 kB)\n",
            "Collecting googletrans (from -r requirements.txt (line 3))\n",
            "  Downloading googletrans-3.0.0.tar.gz (17 kB)\n",
            "  Preparing metadata (setup.py) ... \u001b[?25l\u001b[?25hdone\n",
            "Collecting langdetect (from -r requirements.txt (line 4))\n",
            "  Downloading langdetect-1.0.9.tar.gz (981 kB)\n",
            "\u001b[2K     \u001b[90m━━━━━━━━━━━━━━━━━━━━━━━━━━━━━━━━━━━━━━━━\u001b[0m \u001b[32m981.5/981.5 kB\u001b[0m \u001b[31m43.1 MB/s\u001b[0m eta \u001b[36m0:00:00\u001b[0m\n",
            "\u001b[?25h  Preparing metadata (setup.py) ... \u001b[?25l\u001b[?25hdone\n",
            "Requirement already satisfied: numpy>=1.14.0 in /usr/local/lib/python3.10/dist-packages (from seqeval->-r requirements.txt (line 1)) (1.25.2)\n",
            "Requirement already satisfied: scikit-learn>=0.21.3 in /usr/local/lib/python3.10/dist-packages (from seqeval->-r requirements.txt (line 1)) (1.2.2)\n",
            "Collecting httpx==0.13.3 (from googletrans->-r requirements.txt (line 3))\n",
            "  Downloading httpx-0.13.3-py3-none-any.whl (55 kB)\n",
            "\u001b[2K     \u001b[90m━━━━━━━━━━━━━━━━━━━━━━━━━━━━━━━━━━━━━━━━\u001b[0m \u001b[32m55.1/55.1 kB\u001b[0m \u001b[31m8.3 MB/s\u001b[0m eta \u001b[36m0:00:00\u001b[0m\n",
            "\u001b[?25hRequirement already satisfied: certifi in /usr/local/lib/python3.10/dist-packages (from httpx==0.13.3->googletrans->-r requirements.txt (line 3)) (2024.2.2)\n",
            "Collecting hstspreload (from httpx==0.13.3->googletrans->-r requirements.txt (line 3))\n",
            "  Downloading hstspreload-2024.4.1-py3-none-any.whl (1.1 MB)\n",
            "\u001b[2K     \u001b[90m━━━━━━━━━━━━━━━━━━━━━━━━━━━━━━━━━━━━━━━━\u001b[0m \u001b[32m1.1/1.1 MB\u001b[0m \u001b[31m58.4 MB/s\u001b[0m eta \u001b[36m0:00:00\u001b[0m\n",
            "\u001b[?25hRequirement already satisfied: sniffio in /usr/local/lib/python3.10/dist-packages (from httpx==0.13.3->googletrans->-r requirements.txt (line 3)) (1.3.1)\n",
            "Collecting chardet==3.* (from httpx==0.13.3->googletrans->-r requirements.txt (line 3))\n",
            "  Downloading chardet-3.0.4-py2.py3-none-any.whl (133 kB)\n",
            "\u001b[2K     \u001b[90m━━━━━━━━━━━━━━━━━━━━━━━━━━━━━━━━━━━━━━━━\u001b[0m \u001b[32m133.4/133.4 kB\u001b[0m \u001b[31m17.6 MB/s\u001b[0m eta \u001b[36m0:00:00\u001b[0m\n",
            "\u001b[?25hCollecting idna==2.* (from httpx==0.13.3->googletrans->-r requirements.txt (line 3))\n",
            "  Downloading idna-2.10-py2.py3-none-any.whl (58 kB)\n",
            "\u001b[2K     \u001b[90m━━━━━━━━━━━━━━━━━━━━━━━━━━━━━━━━━━━━━━━━\u001b[0m \u001b[32m58.8/58.8 kB\u001b[0m \u001b[31m9.7 MB/s\u001b[0m eta \u001b[36m0:00:00\u001b[0m\n",
            "\u001b[?25hCollecting rfc3986<2,>=1.3 (from httpx==0.13.3->googletrans->-r requirements.txt (line 3))\n",
            "  Downloading rfc3986-1.5.0-py2.py3-none-any.whl (31 kB)\n",
            "Collecting httpcore==0.9.* (from httpx==0.13.3->googletrans->-r requirements.txt (line 3))\n",
            "  Downloading httpcore-0.9.1-py3-none-any.whl (42 kB)\n",
            "\u001b[2K     \u001b[90m━━━━━━━━━━━━━━━━━━━━━━━━━━━━━━━━━━━━━━━━\u001b[0m \u001b[32m42.6/42.6 kB\u001b[0m \u001b[31m6.8 MB/s\u001b[0m eta \u001b[36m0:00:00\u001b[0m\n",
            "\u001b[?25hCollecting h11<0.10,>=0.8 (from httpcore==0.9.*->httpx==0.13.3->googletrans->-r requirements.txt (line 3))\n",
            "  Downloading h11-0.9.0-py2.py3-none-any.whl (53 kB)\n",
            "\u001b[2K     \u001b[90m━━━━━━━━━━━━━━━━━━━━━━━━━━━━━━━━━━━━━━━━\u001b[0m \u001b[32m53.6/53.6 kB\u001b[0m \u001b[31m4.1 MB/s\u001b[0m eta \u001b[36m0:00:00\u001b[0m\n",
            "\u001b[?25hCollecting h2==3.* (from httpcore==0.9.*->httpx==0.13.3->googletrans->-r requirements.txt (line 3))\n",
            "  Downloading h2-3.2.0-py2.py3-none-any.whl (65 kB)\n",
            "\u001b[2K     \u001b[90m━━━━━━━━━━━━━━━━━━━━━━━━━━━━━━━━━━━━━━━━\u001b[0m \u001b[32m65.0/65.0 kB\u001b[0m \u001b[31m10.0 MB/s\u001b[0m eta \u001b[36m0:00:00\u001b[0m\n",
            "\u001b[?25hCollecting hyperframe<6,>=5.2.0 (from h2==3.*->httpcore==0.9.*->httpx==0.13.3->googletrans->-r requirements.txt (line 3))\n",
            "  Downloading hyperframe-5.2.0-py2.py3-none-any.whl (12 kB)\n",
            "Collecting hpack<4,>=3.0 (from h2==3.*->httpcore==0.9.*->httpx==0.13.3->googletrans->-r requirements.txt (line 3))\n",
            "  Downloading hpack-3.0.0-py2.py3-none-any.whl (38 kB)\n",
            "Requirement already satisfied: six in /usr/local/lib/python3.10/dist-packages (from langdetect->-r requirements.txt (line 4)) (1.16.0)\n",
            "Requirement already satisfied: scipy>=1.3.2 in /usr/local/lib/python3.10/dist-packages (from scikit-learn>=0.21.3->seqeval->-r requirements.txt (line 1)) (1.11.4)\n",
            "Requirement already satisfied: joblib>=1.1.1 in /usr/local/lib/python3.10/dist-packages (from scikit-learn>=0.21.3->seqeval->-r requirements.txt (line 1)) (1.3.2)\n",
            "Requirement already satisfied: threadpoolctl>=2.0.0 in /usr/local/lib/python3.10/dist-packages (from scikit-learn>=0.21.3->seqeval->-r requirements.txt (line 1)) (3.4.0)\n",
            "Building wheels for collected packages: seqeval, googletrans, langdetect\n",
            "  Building wheel for seqeval (setup.py) ... \u001b[?25l\u001b[?25hdone\n",
            "  Created wheel for seqeval: filename=seqeval-1.2.2-py3-none-any.whl size=16161 sha256=aa4ef7a691c85a4e9f0b234553cd7c69c16f974f93f6764dde0be48f3afcba56\n",
            "  Stored in directory: /root/.cache/pip/wheels/1a/67/4a/ad4082dd7dfc30f2abfe4d80a2ed5926a506eb8a972b4767fa\n",
            "  Building wheel for googletrans (setup.py) ... \u001b[?25l\u001b[?25hdone\n",
            "  Created wheel for googletrans: filename=googletrans-3.0.0-py3-none-any.whl size=15718 sha256=dae236bb3658cfc7cb06d27a6c18f0f84fa78021d2acd07c58e3fde6ca91a69b\n",
            "  Stored in directory: /root/.cache/pip/wheels/b3/81/ea/8b030407f8ebfc2f857814e086bb22ca2d4fea1a7be63652ab\n",
            "  Building wheel for langdetect (setup.py) ... \u001b[?25l\u001b[?25hdone\n",
            "  Created wheel for langdetect: filename=langdetect-1.0.9-py3-none-any.whl size=993227 sha256=ded1e0c46935b5839bd40691bd3a30a492f79bbe7ab68b6caddc9ff3a2f73567\n",
            "  Stored in directory: /root/.cache/pip/wheels/95/03/7d/59ea870c70ce4e5a370638b5462a7711ab78fba2f655d05106\n",
            "Successfully built seqeval googletrans langdetect\n",
            "Installing collected packages: rfc3986, hyperframe, hpack, h11, chardet, langdetect, idna, hstspreload, h2, conllu, httpcore, seqeval, httpx, googletrans\n",
            "  Attempting uninstall: chardet\n",
            "    Found existing installation: chardet 5.2.0\n",
            "    Uninstalling chardet-5.2.0:\n",
            "      Successfully uninstalled chardet-5.2.0\n",
            "  Attempting uninstall: idna\n",
            "    Found existing installation: idna 3.6\n",
            "    Uninstalling idna-3.6:\n",
            "      Successfully uninstalled idna-3.6\n",
            "Successfully installed chardet-3.0.4 conllu-4.5.3 googletrans-3.0.0 h11-0.9.0 h2-3.2.0 hpack-3.0.0 hstspreload-2024.4.1 httpcore-0.9.1 httpx-0.13.3 hyperframe-5.2.0 idna-2.10 langdetect-1.0.9 rfc3986-1.5.0 seqeval-1.2.2\n"
          ]
        },
        {
          "output_type": "display_data",
          "data": {
            "application/vnd.colab-display-data+json": {
              "pip_warning": {
                "packages": [
                  "chardet",
                  "idna"
                ]
              },
              "id": "41f2d5182b614eddad6e612be678e039"
            }
          },
          "metadata": {}
        },
        {
          "output_type": "stream",
          "name": "stdout",
          "text": [
            "everything set up!\n"
          ]
        }
      ],
      "source": [
        "!pip install git+https://github.com/huggingface/accelerate\n",
        "!pip install transformers\n",
        "!pip install -U -q PyDrive\n",
        "\n",
        "from pydrive.auth import GoogleAuth\n",
        "from pydrive.drive import GoogleDrive\n",
        "from google.colab import auth\n",
        "from oauth2client.client import GoogleCredentials\n",
        "# Authenticate and create the PyDrive client.\n",
        "auth.authenticate_user()\n",
        "gauth = GoogleAuth()\n",
        "gauth.credentials = GoogleCredentials.get_application_default()\n",
        "drive = GoogleDrive(gauth)\n",
        "print('success!')\n",
        "\n",
        "import os\n",
        "import zipfile\n",
        "\n",
        "data_file = drive.CreateFile({'id': '1zeo8FcaNUnhN660mGMNEAPvxOE4DPOnE'})\n",
        "data_file.GetContentFile('hw1.zip')\n",
        "\n",
        "# Extract data from the zipfile and put it into the current directory\n",
        "with zipfile.ZipFile('hw1.zip', 'r') as zip_file:\n",
        "    zip_file.extractall('./')\n",
        "os.remove('hw1.zip')\n",
        "# We will use hw1 as our working directory\n",
        "os.chdir('hw1')\n",
        "print(\"Data and supporting code downloaded!\")\n",
        "\n",
        "pretrained_models_dir = './pretrained_models_dir'\n",
        "if not os.path.isdir(pretrained_models_dir):\n",
        "  os.mkdir(pretrained_models_dir)   # directory to save pretrained models\n",
        "print('model directory created')\n",
        "\n",
        "!pip install -r requirements.txt\n",
        "print('everything set up!')"
      ]
    },
    {
      "cell_type": "markdown",
      "metadata": {
        "id": "1dyG8xSuMxFm"
      },
      "source": [
        "With the advent of methods such as `BERT` [(Devlin et al., 2019)](https://arxiv.org/pdf/1810.04805.pdf), the dominant paradigm for developing NLP models has shifted to transfer learning: first, pretrain a large language model on large amounts of unlabeled data, and then fine-tune the resulting model on the downstream target task. In this section, we will use `BERT` to solve downstream target tasks across several classes of problems, including classification, question answering, and sequence labeling."
      ]
    },
    {
      "cell_type": "markdown",
      "metadata": {
        "id": "4_ZM8bTI-HNP"
      },
      "source": [
        "### Question 2.1 (25 points)\n",
        "Before diving into the practical applications, let's first ensure your foundational knowledge is solid. Please answer the following questions briefly, aiming for two or three sentences each. This exercise is designed to prime your understanding of the transformative technologies we're exploring, and making sure you're well-prepared for the hands-on challenges ahead.\n",
        "\n",
        "\n",
        "**A) Describe the role of the attention mechanism within BERT. How does the multi-head attention mechanism enable BERT to process different parts of the input data simultaneously, and why is this beneficial for natural language understanding tasks?**\n",
        "\n",
        "**B) Describe how BERT's bidirectionality is different from traditional sequential language models.**\n",
        "\n",
        "**C) What is segment embedding's functionality in BERT?**\n",
        "\n",
        "**D) Briefly describe one variant of BERT (e.g., RoBERTa, ALBERT, DistilBERT) and highlight a key difference in its approach or architecture compared to the original BERT model.**\n",
        "\n",
        "**E) Despite its success, BERT has limitations. Can you identify one limitation or challenge associated with using BERT for NLP tasks?**\n"
      ]
    },
    {
      "cell_type": "markdown",
      "metadata": {
        "id": "OVJL9B73ASsm"
      },
      "source": [
        "***WRITE YOUR ANSWER HERE IN A FEW SENTENCES FOR EACH SECTION***"
      ]
    },
    {
      "cell_type": "markdown",
      "metadata": {
        "id": "TpqiH9gP2x4N"
      },
      "source": [
        "After answering the above questions, let's run the cell below to import necessary packages and set some things up for fine-tuning `BERT`."
      ]
    },
    {
      "cell_type": "code",
      "execution_count": null,
      "metadata": {
        "id": "7kDEdMvq9tCr",
        "colab": {
          "base_uri": "https://localhost:8080/"
        },
        "outputId": "daf896e7-5d7e-409f-cffa-afc319e5f977"
      },
      "outputs": [
        {
          "output_type": "stream",
          "name": "stdout",
          "text": [
            "setup complete\n"
          ]
        }
      ],
      "source": [
        "# coding=utf-8\n",
        "\n",
        "import dataclasses\n",
        "import logging\n",
        "import math\n",
        "import os\n",
        "import timeit\n",
        "from dataclasses import dataclass, field\n",
        "from typing import Callable, Dict, List, Tuple, Optional\n",
        "\n",
        "import numpy as np\n",
        "from seqeval.metrics import accuracy_score, f1_score, precision_score, recall_score\n",
        "import torch\n",
        "from torch.utils.data import DataLoader, SequentialSampler\n",
        "from tqdm import tqdm\n",
        "\n",
        "from transformers import (\n",
        "    AutoConfig,\n",
        "    AutoModelWithLMHead,\n",
        "    AutoModelForSequenceClassification,\n",
        "    AutoModelForQuestionAnswering,\n",
        "    AutoModelForTokenClassification,\n",
        "    AutoTokenizer,\n",
        "    PreTrainedTokenizer,\n",
        "    EvalPrediction\n",
        ")\n",
        "from transformers import (\n",
        "    GlueDataset,\n",
        "    SquadDataset,\n",
        "    LineByLineTextDataset,\n",
        "    TextDataset,\n",
        "    DataCollatorForLanguageModeling,\n",
        ")\n",
        "from transformers import GlueDataTrainingArguments, SquadDataTrainingArguments\n",
        "from transformers import (\n",
        "    Trainer,\n",
        "    TrainingArguments,\n",
        "    glue_compute_metrics,\n",
        "    glue_output_modes,\n",
        "    glue_tasks_num_labels,\n",
        "    set_seed,\n",
        ")\n",
        "from transformers.data.processors.squad import SquadResult\n",
        "from transformers.data.metrics.squad_metrics import (\n",
        "    compute_predictions_logits,\n",
        "    squad_evaluate,\n",
        ")\n",
        "from tasks import NER\n",
        "from utils_ner import Split, TokenClassificationDataset, TokenClassificationTask\n",
        "\n",
        "from transformers import glue_processors\n",
        "from transformers.data.processors.utils import InputExample\n",
        "from langdetect import detect\n",
        "\n",
        "logger = logging.getLogger(__name__)\n",
        "\n",
        "\n",
        "@dataclass\n",
        "class ModelArguments:\n",
        "    \"\"\"\n",
        "    Arguments pertaining to which model/config/tokenizer we are going to fine-tune from.\n",
        "    \"\"\"\n",
        "    model_type: str = field(\n",
        "        default=\"bert\",\n",
        "        metadata={\"help\": \"Model type, e.g., bert.\"}\n",
        "    )\n",
        "    model_name_or_path: str = field(\n",
        "        default=\"bert\",\n",
        "        metadata={\"help\": \"Path to pretrained model or model identifier from huggingface.co/models.\"}\n",
        "    )\n",
        "    do_lower_case: Optional[bool] = field(\n",
        "        default=False,\n",
        "        metadata={\"help\": \"Whether you want to do lower case on input before tokenization.\"}\n",
        "    )\n",
        "    model_cache_dir: Optional[str] = field(\n",
        "        default=None,\n",
        "        metadata={\"help\": \"Where you want to store the pretrained models downloaded from s3.\"}\n",
        "    )\n",
        "    data_cache_dir: Optional[str] = field(\n",
        "        default=None,\n",
        "        metadata={\"help\": \"Where you want to store the cached features for the task.\"}\n",
        "    )\n",
        "\n",
        "\n",
        "@dataclass\n",
        "class NerDataTrainingArguments:\n",
        "    \"\"\"\n",
        "    Arguments pertaining to what data we are going to input our model for training and eval.\n",
        "    \"\"\"\n",
        "\n",
        "    data_dir: str = field(\n",
        "        metadata={\"help\": \"The input data dir. Should contain data files for the task.\"}\n",
        "    )\n",
        "    labels: Optional[str] = field(\n",
        "        default=None,\n",
        "        metadata={\"help\": \"Path to a file containing all labels for the task.\"},\n",
        "    )\n",
        "    max_seq_length: int = field(\n",
        "        default=128,\n",
        "        metadata={\n",
        "            \"help\": \"The maximum total input sequence length after tokenization. Sequences longer \"\n",
        "            \"than this will be truncated, sequences shorter will be padded.\"\n",
        "        },\n",
        "    )\n",
        "    overwrite_cache: bool = field(\n",
        "        default=False, metadata={\"help\": \"Overwrite the cached training and evaluation sets.\"}\n",
        "    )\n",
        "\n",
        "\n",
        "@dataclass\n",
        "class LMDataTrainingArguments:\n",
        "    \"\"\"\n",
        "    Arguments pertaining to what data we are going to input our model for training and eval.\n",
        "    \"\"\"\n",
        "\n",
        "    train_data_file: Optional[str] = field(\n",
        "        default=None, metadata={\"help\": \"The input training data file (a text file).\"}\n",
        "    )\n",
        "    eval_data_file: Optional[str] = field(\n",
        "        default=None,\n",
        "        metadata={\"help\": \"An optional input evaluation data file to evaluate the perplexity on (a text file).\"},\n",
        "    )\n",
        "    line_by_line: bool = field(\n",
        "        default=False,\n",
        "        metadata={\"help\": \"Whether distinct lines of text in the dataset are to be handled as distinct sequences.\"},\n",
        "    )\n",
        "\n",
        "    mlm: bool = field(\n",
        "        default=False, metadata={\"help\": \"Train with masked-language modeling loss instead of language modeling.\"}\n",
        "    )\n",
        "    mlm_probability: float = field(\n",
        "        default=0.15, metadata={\"help\": \"Ratio of tokens to mask for masked language modeling loss\"}\n",
        "    )\n",
        "    block_size: int = field(\n",
        "        default=-1,\n",
        "        metadata={\n",
        "            \"help\": \"Optional input sequence length after tokenization.\"\n",
        "            \"The training dataset will be truncated in block of this size for training.\"\n",
        "            \"Default to the model max input length for single sentence inputs (take into account special tokens).\"\n",
        "        },\n",
        "    )\n",
        "    overwrite_cache: bool = field(\n",
        "        default=False, metadata={\"help\": \"Overwrite the cached training and evaluation sets\"}\n",
        "    )\n",
        "\n",
        "\n",
        "def get_dataset(\n",
        "    args: LMDataTrainingArguments,\n",
        "    tokenizer: PreTrainedTokenizer,\n",
        "    evaluate: bool = False,\n",
        "    cache_dir: Optional[str] = None,\n",
        "):\n",
        "    file_path = args.eval_data_file if evaluate else args.train_data_file\n",
        "    if args.line_by_line:\n",
        "        return LineByLineTextDataset(tokenizer=tokenizer, file_path=file_path, block_size=args.block_size)\n",
        "    else:\n",
        "        return TextDataset(\n",
        "            tokenizer=tokenizer,\n",
        "            file_path=file_path,\n",
        "            block_size=args.block_size,\n",
        "            overwrite_cache=args.overwrite_cache,\n",
        "            cache_dir=cache_dir,\n",
        "        )\n",
        "\n",
        "\n",
        "DATA_TRAINING_ARGUMENTS = {\n",
        "    \"text_classification\": GlueDataTrainingArguments,\n",
        "    \"question_answering\": SquadDataTrainingArguments,\n",
        "    \"sequence_labeling\": NerDataTrainingArguments,\n",
        "}\n",
        "\n",
        "\n",
        "AUTO_MODEL = {\n",
        "    \"text_classification\": AutoModelForSequenceClassification,\n",
        "    \"question_answering\": AutoModelForQuestionAnswering,\n",
        "    \"sequence_labeling\": AutoModelForTokenClassification,\n",
        "}\n",
        "\n",
        "\n",
        "DATASET = {\n",
        "    \"text_classification\": GlueDataset,\n",
        "    \"question_answering\": SquadDataset,\n",
        "    \"sequence_labeling\": TokenClassificationDataset,\n",
        "}\n",
        "\n",
        "\n",
        "# some functions for fine-tuning BERT on a downstream target task\n",
        "def do_target_task_finetuning(model_name_or_path, task_type, output_dir, **kwargs):\n",
        "    r\"\"\" Fine-tuning BERT on a downstream target task.\n",
        "    Params:\n",
        "        **model_name_or_path**: either:\n",
        "            - a string with the `shortcut name` of a pre-trained model configuration to load from cache\n",
        "                or download and cache if not already stored in cache (e.g. 'bert-base-uncased').\n",
        "            - a path to a `directory` containing a configuration file saved\n",
        "                using the `save_pretrained(save_directory)` method.\n",
        "            - a path or url to a saved configuration `file`.\n",
        "        **task_type**: string:\n",
        "            The class of the task to train, selected in\n",
        "            [\"text_classification\", \"question_answering\", \"sequence_labeling\"].\n",
        "        **output_dir**: string:\n",
        "            The output directory where the model predictions and checkpoints will be written.\n",
        "        **kwargs**: (`optional`) dict:\n",
        "            Dictionary of key/value pairs with which to update the configuration object after loading.\n",
        "            - The values in kwargs of any keys which are configuration attributes will be used\n",
        "            to override the loaded values.\n",
        "    \"\"\"\n",
        "    # See all possible arguments in src/transformers/training_args.py\n",
        "\n",
        "    assert task_type in DATA_TRAINING_ARGUMENTS\n",
        "    model_args = ModelArguments(model_name_or_path=model_name_or_path)\n",
        "    data_args_params = {}\n",
        "    for param in [\"task_name\", \"data_dir\"]:\n",
        "        if param in kwargs:\n",
        "            data_args_params.update({param: kwargs[param]})\n",
        "\n",
        "    data_args = DATA_TRAINING_ARGUMENTS[task_type](**data_args_params)\n",
        "    training_args = TrainingArguments(output_dir=output_dir)\n",
        "\n",
        "    # override the loaded configs\n",
        "    configs = (model_args, data_args, training_args)\n",
        "    for config in configs:\n",
        "        for key, value in kwargs.items():\n",
        "            if hasattr(config, key):\n",
        "                setattr(config, key, value)\n",
        "\n",
        "    if (\n",
        "        os.path.exists(training_args.output_dir)\n",
        "        and os.listdir(training_args.output_dir)\n",
        "        and training_args.do_train\n",
        "        and not training_args.overwrite_output_dir\n",
        "    ):\n",
        "        raise ValueError(\n",
        "            f\"Output directory ({training_args.output_dir}) already exists and is not empty. \"\n",
        "            f\"Use --overwrite_output_dir to overcome.\"\n",
        "        )\n",
        "\n",
        "    for p in [model_args.model_cache_dir, model_args.data_cache_dir, training_args.output_dir]:\n",
        "        if not os.path.exists(p):\n",
        "            os.makedirs(p)\n",
        "\n",
        "    # Setup logging\n",
        "    logging.basicConfig(\n",
        "        format=\"%(asctime)s - %(levelname)s - %(name)s -   %(message)s\",\n",
        "        datefmt=\"%m/%d/%Y %H:%M:%S\",\n",
        "        level=logging.INFO,\n",
        "    )\n",
        "\n",
        "    logger.info(\"Process device: %s, n_gpu: %s\", training_args.device, training_args.n_gpu)\n",
        "    logger.info(\"Training/evaluation parameters %s\", training_args)\n",
        "\n",
        "\n",
        "    # Set seed\n",
        "    set_seed(training_args.seed)\n",
        "\n",
        "    if task_type == \"text_classification\":\n",
        "        try:\n",
        "            data_args.task_name = data_args.task_name.lower()\n",
        "            num_labels = glue_tasks_num_labels[data_args.task_name]\n",
        "            output_mode = glue_output_modes[data_args.task_name]\n",
        "        except KeyError:\n",
        "            raise ValueError(\"Task not found: %s\" % (data_args.task_name))\n",
        "    elif task_type == \"sequence_labeling\":\n",
        "        token_classification_task = NER() # You might want to this to Chunk() or POS()\n",
        "        # if you are working with a Chunk or POS task, respectively\n",
        "        labels = token_classification_task.get_labels(data_args.labels)\n",
        "        label_map: Dict[int, str] = {i: label for i, label in enumerate(labels)}\n",
        "        num_labels = len(labels)\n",
        "\n",
        "    # Load pretrained model and tokenizer\n",
        "\n",
        "    AutoModel = AUTO_MODEL[task_type]\n",
        "    auto_config_params = {\n",
        "        'pretrained_model_name_or_path': model_args.model_name_or_path,\n",
        "        'cache_dir': model_args.model_cache_dir,\n",
        "    }\n",
        "\n",
        "    if task_type == \"text_classification\":\n",
        "        auto_config_params.update({\n",
        "            \"num_labels\": num_labels,\n",
        "            \"finetuning_task\": data_args.task_name,\n",
        "        })\n",
        "    elif task_type == \"sequence_labeling\":\n",
        "        auto_config_params.update({\n",
        "            \"num_labels\": num_labels,\n",
        "            \"id2label\": label_map,\n",
        "            \"label2id\": {label: i for i, label in enumerate(labels)},\n",
        "        })\n",
        "\n",
        "    config = AutoConfig.from_pretrained(**auto_config_params)\n",
        "\n",
        "    auto_tokenizer_params = {\n",
        "        \"pretrained_model_name_or_path\": model_args.model_name_or_path,\n",
        "        \"cache_dir\": model_args.model_cache_dir,\n",
        "        \"do_lower_case\": model_args.do_lower_case,\n",
        "    }\n",
        "    tokenizer = AutoTokenizer.from_pretrained(**auto_tokenizer_params)\n",
        "\n",
        "    auto_model_params = {\n",
        "        \"pretrained_model_name_or_path\": model_args.model_name_or_path,\n",
        "        \"from_tf\": False,\n",
        "        \"config\": config,\n",
        "        \"cache_dir\": model_args.model_cache_dir,\n",
        "    }\n",
        "\n",
        "    if \"model_load_mode\" in kwargs and kwargs[\"model_load_mode\"] == \"base_model_only\":\n",
        "        WEIGHTS_NAME = \"pytorch_model.bin\"\n",
        "        archive_file = os.path.join(model_args.model_name_or_path, WEIGHTS_NAME)\n",
        "        # Use torch.load with map_location=torch.device() to map the pretrained model to our device.\n",
        "        model_state_dict = torch.load(archive_file, map_location=torch.device(training_args.device))\n",
        "\n",
        "        state_dict_with_prefix = {}\n",
        "        for key, value in model_state_dict.items():\n",
        "            if key.startswith(model_args.model_type):\n",
        "                state_dict_with_prefix[key] = value\n",
        "\n",
        "        auto_model_params.update({\"state_dict\": state_dict_with_prefix})\n",
        "\n",
        "    model = AutoModel.from_pretrained(**auto_model_params)\n",
        "\n",
        "    # Get datasets\n",
        "    Dataset = DATASET[task_type]\n",
        "    dataset_params = {\n",
        "        \"tokenizer\": tokenizer,\n",
        "    }\n",
        "    if task_type == \"sequence_labeling\":\n",
        "        dataset_params.update({\n",
        "            \"token_classification_task\": token_classification_task,\n",
        "            \"data_dir\": data_args.data_dir,\n",
        "            \"labels\": labels,\n",
        "            \"model_type\": model_args.model_type,\n",
        "            \"max_seq_length\": data_args.max_seq_length\n",
        "        })\n",
        "\n",
        "    else:\n",
        "        dataset_params.update({\n",
        "            \"args\": data_args,\n",
        "            \"cache_dir\": model_args.data_cache_dir,\n",
        "        })\n",
        "\n",
        "    train_dataset = (Dataset(**dataset_params) if training_args.do_train else None)\n",
        "\n",
        "    dataset_params.update({\"mode\": Split.dev if task_type == \"sequence_labeling\" else \"dev\"})\n",
        "    eval_dataset = (Dataset(**dataset_params) if training_args.do_eval else None)\n",
        "\n",
        "    # Initialize our Trainer\n",
        "    trainer_params = {\n",
        "        \"model\": model,\n",
        "        \"args\": training_args,\n",
        "        \"train_dataset\": train_dataset,\n",
        "        \"eval_dataset\": eval_dataset,\n",
        "    }\n",
        "    trainer = Trainer(**trainer_params)\n",
        "\n",
        "    # Training\n",
        "    if training_args.do_train:\n",
        "        trainer.train(\n",
        "            model_path=model_args.model_name_or_path if os.path.isdir(model_args.model_name_or_path) else None\n",
        "        )\n",
        "        trainer.save_model()\n",
        "        # For convenience, we also re-save the tokenizer to the same directory\n",
        "        tokenizer.save_pretrained(training_args.output_dir)\n",
        "\n",
        "    # Evaluation\n",
        "    eval_results = {}\n",
        "    if training_args.do_eval:\n",
        "        if task_type == \"text_classification\":\n",
        "            def build_compute_metrics_fn(task_name: str) -> Callable[[EvalPrediction], Dict]:\n",
        "                def compute_metrics_fn(p: EvalPrediction):\n",
        "                    if output_mode == \"classification\":\n",
        "                        preds = np.argmax(p.predictions, axis=1)\n",
        "                    elif output_mode == \"regression\":\n",
        "                        preds = np.squeeze(p.predictions)\n",
        "                    return glue_compute_metrics(task_name, preds, p.label_ids)\n",
        "                return compute_metrics_fn\n",
        "\n",
        "            logger.info(\"*** Evaluate ***\")\n",
        "            # Loop to handle MNLI double evaluation (matched, mis-matched)\n",
        "            eval_datasets = [eval_dataset]\n",
        "            if data_args.task_name == \"mnli\":\n",
        "                mnli_mm_data_args = dataclasses.replace(data_args, task_name=\"mnli-mm\")\n",
        "                eval_datasets.append(\n",
        "                    Dataset(mnli_mm_data_args, tokenizer=tokenizer, mode=\"dev\", cache_dir=model_args.data_cache_dir)\n",
        "                )\n",
        "\n",
        "            for eval_dataset in eval_datasets:\n",
        "                trainer.compute_metrics = build_compute_metrics_fn(eval_dataset.args.task_name)\n",
        "                eval_result = trainer.evaluate(eval_dataset=eval_dataset)\n",
        "\n",
        "                output_eval_file = os.path.join(training_args.output_dir, f\"eval_results.txt\")\n",
        "                with open(output_eval_file, \"w\") as writer:\n",
        "                    logger.info(\"***** Eval results *****\")\n",
        "                    for key, value in eval_result.items():\n",
        "                        logger.info(\"  %s = %s\", key, value)\n",
        "                        writer.write(\"%s = %s\\n\" % (key, value))\n",
        "\n",
        "                eval_results.update(eval_result)\n",
        "\n",
        "        elif task_type == \"question_answering\":\n",
        "            # We don't use trainer.evaluate here since it currently does not support question answering tasks\n",
        "            # (https://github.com/huggingface/transformers/issues/7032)\n",
        "            model = AutoModel.from_pretrained(model_args.model_cache_dir)\n",
        "            tokenizer = AutoTokenizer.from_pretrained(model_args.model_cache_dir, do_lower_case=model_args.do_lower_case)\n",
        "            model.to(training_args.device)\n",
        "\n",
        "\n",
        "            dataset = eval_dataset.dataset\n",
        "            examples = eval_dataset.examples\n",
        "            features = eval_dataset.features\n",
        "            eval_batch_size = training_args.per_gpu_eval_batch_size * max(1, training_args.n_gpu)\n",
        "\n",
        "            eval_sampler = SequentialSampler(dataset)\n",
        "            eval_dataloader = DataLoader(dataset, sampler=eval_sampler, batch_size=eval_batch_size)\n",
        "\n",
        "            logger.info(\"*** Evaluate ***\")\n",
        "            description = \"Evaluation\"\n",
        "            logger.info(\"***** Running %s *****\", description)\n",
        "            logger.info(\"  Num examples = %d\", len(dataset))\n",
        "            logger.info(\"  Batch size = %d\", eval_batch_size)\n",
        "\n",
        "            all_results = []\n",
        "            start_time = timeit.default_timer()\n",
        "\n",
        "            for batch in tqdm(eval_dataloader, desc=description):\n",
        "                model.eval()\n",
        "                batch = tuple(t.to(training_args.device) for t in batch)\n",
        "\n",
        "                with torch.no_grad():\n",
        "                    inputs = {\n",
        "                        \"input_ids\": batch[0],\n",
        "                        \"attention_mask\": batch[1],\n",
        "                        \"token_type_ids\": batch[2],\n",
        "                    }\n",
        "                    feature_indices = batch[3]\n",
        "                    outputs = model(**inputs)\n",
        "\n",
        "                for i, feature_index in enumerate(feature_indices):\n",
        "                    eval_feature = features[feature_index.item()]\n",
        "                    unique_id = int(eval_feature.unique_id)\n",
        "                    output = [output[i].detach().cpu().tolist() for output in outputs]\n",
        "                    start_logits, end_logits = output\n",
        "                    result = SquadResult(unique_id, start_logits, end_logits)\n",
        "                    all_results.append(result)\n",
        "\n",
        "            evalTime = timeit.default_timer() - start_time\n",
        "            logger.info(\"  Evaluation done in total %f secs (%f sec per example)\", evalTime, evalTime / len(dataset))\n",
        "\n",
        "            # Compute predictions\n",
        "            output_prediction_file = os.path.join(training_args.output_dir, \"predictions.json\")\n",
        "            output_nbest_file = os.path.join(training_args.output_dir, \"nbest_predictions.json\")\n",
        "\n",
        "            output_null_log_odds_file = os.path.join(training_args.output_dir, \"null_odds.json\") \\\n",
        "                if data_args.version_2_with_negative else None\n",
        "\n",
        "            predictions = compute_predictions_logits(\n",
        "                all_examples=examples,\n",
        "                all_features=features,\n",
        "                all_results=all_results,\n",
        "                n_best_size=data_args.n_best_size,\n",
        "                max_answer_length=data_args.max_answer_length,\n",
        "                do_lower_case=model_args.do_lower_case,\n",
        "                output_prediction_file=output_prediction_file,\n",
        "                output_nbest_file=output_nbest_file,\n",
        "                output_null_log_odds_file=output_null_log_odds_file,\n",
        "                verbose_logging=False,\n",
        "                version_2_with_negative=data_args.version_2_with_negative,\n",
        "                null_score_diff_threshold=data_args.null_score_diff_threshold,\n",
        "                tokenizer=tokenizer,\n",
        "            )\n",
        "\n",
        "            # Compute the F1 and exact scores.\n",
        "            eval_result = squad_evaluate(examples, predictions)\n",
        "\n",
        "            output_eval_file = os.path.join(training_args.output_dir, f\"eval_results.txt\")\n",
        "            with open(output_eval_file, \"w\") as writer:\n",
        "                logger.info(\"***** Eval results *****\")\n",
        "                for key, value in eval_result.items():\n",
        "                    logger.info(\"  %s = %s\", key, value)\n",
        "                    writer.write(\"%s = %s\\n\" % (key, value))\n",
        "\n",
        "            eval_results.update(eval_result)\n",
        "\n",
        "\n",
        "        elif task_type == \"sequence_labeling\":\n",
        "            def align_predictions(predictions: np.ndarray, label_ids: np.ndarray) -> Tuple[List[int], List[int]]:\n",
        "                preds = np.argmax(predictions, axis=2)\n",
        "                batch_size, seq_len = preds.shape\n",
        "                label_list = [[] for _ in range(batch_size)]\n",
        "                pred_list = [[] for _ in range(batch_size)]\n",
        "\n",
        "                for i in range(batch_size):\n",
        "                    for j in range(seq_len):\n",
        "                        if label_ids[i, j] != torch.nn.CrossEntropyLoss().ignore_index:\n",
        "                            label_list[i].append(label_map[label_ids[i][j]])\n",
        "                            pred_list[i].append(label_map[preds[i][j]])\n",
        "                return pred_list, label_list\n",
        "\n",
        "            def compute_metrics_fn(p: EvalPrediction) -> Dict:\n",
        "                pred_list, label_list = align_predictions(p.predictions, p.label_ids)\n",
        "                return {\n",
        "                    \"accuracy_score\": accuracy_score(label_list, pred_list),\n",
        "                    \"precision\": precision_score(label_list, pred_list),\n",
        "                    \"recall\": recall_score(label_list, pred_list),\n",
        "                    \"f1\": f1_score(label_list, pred_list),\n",
        "                }\n",
        "\n",
        "            trainer.compute_metrics = compute_metrics_fn\n",
        "            eval_result = trainer.evaluate(eval_dataset=eval_dataset)\n",
        "\n",
        "            output_eval_file = os.path.join(training_args.output_dir, f\"eval_results.txt\")\n",
        "            with open(output_eval_file, \"w\") as writer:\n",
        "                logger.info(\"***** Eval results *****\")\n",
        "                for key, value in eval_result.items():\n",
        "                    logger.info(\"  %s = %s\", key, value)\n",
        "                    writer.write(\"%s = %s\\n\" % (key, value))\n",
        "\n",
        "            eval_results.update(eval_result)\n",
        "\n",
        "        else:\n",
        "            raise ValueError(\"Invalid task type.\")\n",
        "    return eval_results\n",
        "\n",
        "\n",
        "print('setup complete')"
      ]
    },
    {
      "cell_type": "markdown",
      "metadata": {
        "id": "lfWAtDLLx8SK"
      },
      "source": [
        "## Fine-tuning BERT for text classification\n",
        "Now, let's use `BERT` to solve a sentiment classification task. Specifically, we'll be using the Stanford Sentiment Treebank [(Socher et al., 2013)](https://nlp.stanford.edu/~socherr/EMNLP2013_RNTN.pdf), which was constructed from movie reviews data. We provide code to fine-tune BERT in a separate [\"useful code\" Colab notebook](https://colab.research.google.com/drive/1nJWA9rPkPrjjjtwN_vKUSQoomdfWLAFV?usp=sharing), so check that out if you're interested. However, since training on the full `SST` dataset (67K examples) takes a while, we provide you with a fine-tuned model to save time. Run the following cell to download the model.\n",
        "\n"
      ]
    },
    {
      "cell_type": "code",
      "execution_count": null,
      "metadata": {
        "id": "2-48fUgg9pq-",
        "colab": {
          "base_uri": "https://localhost:8080/"
        },
        "outputId": "a9e0d561-1c46-4979-8076-fa68f5f4d8d9"
      },
      "outputs": [
        {
          "output_type": "stream",
          "name": "stdout",
          "text": [
            "bert-base-cased-finetuned-sst downloaded!\n"
          ]
        }
      ],
      "source": [
        "data_file = drive.CreateFile({'id': '1ZJ1_gWahH_OOBIrRm0aN9i8nvLB2olZC'})\n",
        "data_file.GetContentFile('bert-base-cased-finetuned-sst.zip')\n",
        "\n",
        "# Extract the data from the zipfile and put it into pretrained_models_dir\n",
        "with zipfile.ZipFile('bert-base-cased-finetuned-sst.zip', 'r') as zip_file:\n",
        "    zip_file.extractall(pretrained_models_dir)\n",
        "os.remove('bert-base-cased-finetuned-sst.zip')\n",
        "print(\"bert-base-cased-finetuned-sst downloaded!\")"
      ]
    },
    {
      "cell_type": "markdown",
      "metadata": {
        "id": "SMugs2KHRUZN"
      },
      "source": [
        "### Question 2.2 (5 points)\n",
        "Let's use the trained model to predict the sentiment of a given sentence. We will make a few predictions in the code below. Your task is to complete the code to print out the model's predicted probability distribution for each sentence.\n",
        "\n",
        "*Hint:*\n",
        "\n",
        "*   `model(inputs)[0]` gives you the logits of the model for `inputs`."
      ]
    },
    {
      "cell_type": "code",
      "execution_count": null,
      "metadata": {
        "id": "TlaiLg-a5f8Y",
        "colab": {
          "base_uri": "https://localhost:8080/"
        },
        "outputId": "0b075e26-336c-4fb0-b125-0bc06b792086"
      },
      "outputs": [
        {
          "output_type": "stream",
          "name": "stdout",
          "text": [
            "(1) Sentence: the movie has something interesting to say\n",
            "Predicted probabilities: tensor([[-3.1909,  3.6084]], grad_fn=<AddmmBackward0>)\n",
            "Predicted sentiment: positive\n",
            "\n",
            "(2) Sentence: it was so awful that i walked out after 30 minutes :(\n",
            "Predicted probabilities: tensor([[ 2.7461, -3.3838]], grad_fn=<AddmmBackward0>)\n",
            "Predicted sentiment: negative\n",
            "\n"
          ]
        }
      ],
      "source": [
        "# Load the trained model and make a few predictions\n",
        "model_name_or_path = \"bert-base-cased-finetuned-sst\"\n",
        "pretrained_weights = os.path.join(pretrained_models_dir, model_name_or_path)\n",
        "task_type = \"text_classification\"\n",
        "model = AUTO_MODEL[task_type].from_pretrained(pretrained_weights)\n",
        "tokenizer = AutoTokenizer.from_pretrained(pretrained_weights)\n",
        "\n",
        "classes = [\"negative\", \"positive\"]\n",
        "\n",
        "sentence_1 = \"the movie has something interesting to say\"\n",
        "sentence_2 = \"it was so awful that i walked out after 30 minutes :(\"\n",
        "\n",
        "inputs_1 = tokenizer.encode(sentence_1, add_special_tokens=True, return_tensors=\"pt\")\n",
        "inputs_2 = tokenizer.encode(sentence_2, add_special_tokens=True, return_tensors=\"pt\")\n",
        "\n",
        "# YOUR CODE HERE!\n",
        "output = model(inputs_1)[0]\n",
        "print(f\"(1) Sentence: {sentence_1}\\nPredicted probabilities: {output}\\nPredicted sentiment: {classes[torch.argmax(output)]}\\n\")\n",
        "\n",
        "output = model(inputs_2)[0]\n",
        "print(f\"(2) Sentence: {sentence_2}\\nPredicted probabilities: {output}\\nPredicted sentiment: {classes[torch.argmax(output)]}\\n\")"
      ]
    },
    {
      "cell_type": "markdown",
      "metadata": {
        "id": "SLdj1V1yZnSO"
      },
      "source": [
        "### Question 2.3 (5 points)\n",
        "Come up with a new sentence that the model gets wrong. The sentence must contain some sentiment (i.e., it cannot be neutral), and the model should place a higher probability on the wrong label than the correct one. Show the model's prediction on this new sentence."
      ]
    },
    {
      "cell_type": "code",
      "execution_count": null,
      "metadata": {
        "id": "qmKYU5zratKI",
        "colab": {
          "base_uri": "https://localhost:8080/"
        },
        "outputId": "28516ae6-a1cf-47f9-d8d2-b013329c8dc1"
      },
      "outputs": [
        {
          "output_type": "stream",
          "name": "stdout",
          "text": [
            "your sentence: \"If you haven’t seen that movie, you’ve missed out on a life-changing experience.\"\n",
            "ground-truth label: positive\n",
            "predicted negative prob: 2.71\n",
            "predicted positive prob: -3.47\n",
            "\n",
            "(Your) Sentence: If you haven’t seen that movie, you’ve missed out on a life-changing experience.\n",
            "Predicted probabilities: tensor([[ 2.7062, -3.4656]], grad_fn=<AddmmBackward0>)\n",
            "Predicted sentiment: negative\n",
            "Ground-True Sentiment: positive\n",
            "\n"
          ]
        }
      ],
      "source": [
        "your_sentence = 'If you haven’t seen that movie, you’ve missed out on a life-changing experience.' # change to your sentence\n",
        "your_sentence_sentiment = 'positive' # change to your sentence's ground-truth sentiment\n",
        "your_model_prediction = None # obviously, change this to the model's prediction on your sentence\n",
        "\n",
        "\n",
        "# YOUR CODE HERE\n",
        "your_inputs = tokenizer.encode(your_sentence, add_special_tokens=True, return_tensors=\"pt\")\n",
        "output = model(your_inputs)[0]\n",
        "your_model_prediction = output[0]\n",
        "\n",
        "print('your sentence: \"%s\"\\nground-truth label: %s\\npredicted negative prob: %0.2f\\npredicted positive prob: %0.2f'\\\n",
        "      % (your_sentence, your_sentence_sentiment, your_model_prediction[0], your_model_prediction[1]))\n",
        "\n",
        "print(f\"\\n(Your) Sentence: {your_sentence}\\n\\\n",
        "Predicted probabilities: {output}\\n\\\n",
        "Predicted sentiment: {classes[torch.argmax(output)]}\\n\\\n",
        "Ground-True Sentiment: {your_sentence_sentiment}\\n\\\n",
        "\")"
      ]
    },
    {
      "cell_type": "markdown",
      "metadata": {
        "id": "nTdT62X1cSfg"
      },
      "source": [
        "### Question 2.4 (5 points)\n",
        "Provide a reasonable explanation as to why the model got your sentence wrong. Also provide a plausible method to improve the underlying sentiment model so that this kind of error stops happening."
      ]
    },
    {
      "cell_type": "markdown",
      "metadata": {
        "id": "sosXqVsIfAOc"
      },
      "source": [
        "***WRITE YOUR ANSWER HERE IN A FEW SENTENCES***"
      ]
    },
    {
      "cell_type": "markdown",
      "metadata": {
        "id": "wt4_JfmX7w5d"
      },
      "source": [
        "## Fine-tuning BERT for question answering\n",
        "In this section, we will use `BERT` for a question answering task, i.e., `SQuAD` [(Rajpurkar et al., 2016)](https://nlp.stanford.edu/pubs/rajpurkar2016squad.pdf) whose dataset was built from Wikipedia. Training on the full `SQuAD` dataset (108K examples) would takes a couple of hours, so we will provide you with a trained model to save your time. Run the following cell to download the model."
      ]
    },
    {
      "cell_type": "code",
      "execution_count": null,
      "metadata": {
        "id": "dMhmA6i61Cqt",
        "colab": {
          "base_uri": "https://localhost:8080/"
        },
        "outputId": "6a181bf3-7049-4506-c95a-4a0948866f13"
      },
      "outputs": [
        {
          "output_type": "stream",
          "name": "stdout",
          "text": [
            "bert-base-cased-finetuned-squad downloaded!\n"
          ]
        }
      ],
      "source": [
        "data_file = drive.CreateFile({'id': '19cnGSN88KlRJRcIqwxw3C4ylJftdkZ2W'})\n",
        "data_file.GetContentFile('bert-base-cased-finetuned-squad.zip')\n",
        "\n",
        "# Extract the data from the zipfile and put it into pretrained_models_dir\n",
        "with zipfile.ZipFile('bert-base-cased-finetuned-squad.zip', 'r') as zip_file:\n",
        "    zip_file.extractall(pretrained_models_dir)\n",
        "os.remove('bert-base-cased-finetuned-squad.zip')\n",
        "print(\"bert-base-cased-finetuned-squad downloaded!\")"
      ]
    },
    {
      "cell_type": "markdown",
      "metadata": {
        "id": "5CkbeUxR5fNw"
      },
      "source": [
        "### Question 2.5 (10 points)\n",
        "\n",
        "Okay, same drill as before! Your task is to complete the code to show the model's predicted answer to each question. If you forgot how `BERT` solves extractive question answering tasks, check out Section 4.2 and Figure 1 / Figure 4c) in the [BERT paper](https://arxiv.org/pdf/1810.04805.pdf). Your output should be three strings, each corresponding to the answer of one of the three given questions.\n",
        "\n",
        "*Hints*\n",
        "\n",
        "*   `model(**inputs)]` gives you the start and end logits of the model for  `inputs`.\n",
        "*   Use `tokenizer.convert_tokens_to_string` to convert a sequence of tokens (string) into a single string.\n",
        "*   Use `tokenizer.convert_ids_to_tokens` to convert a sequence of indices into a sequence of tokens."
      ]
    },
    {
      "cell_type": "code",
      "execution_count": null,
      "metadata": {
        "id": "G5COVCSw6f5h",
        "colab": {
          "base_uri": "https://localhost:8080/"
        },
        "outputId": "1744ff5a-c637-4720-acfd-42f97a4cc1a9"
      },
      "outputs": [
        {
          "output_type": "stream",
          "name": "stderr",
          "text": [
            "Some weights of the model checkpoint at ./pretrained_models_dir/bert-base-cased-finetuned-squad were not used when initializing BertForQuestionAnswering: ['bert.pooler.dense.bias', 'bert.pooler.dense.weight']\n",
            "- This IS expected if you are initializing BertForQuestionAnswering from the checkpoint of a model trained on another task or with another architecture (e.g. initializing a BertForSequenceClassification model from a BertForPreTraining model).\n",
            "- This IS NOT expected if you are initializing BertForQuestionAnswering from the checkpoint of a model that you expect to be exactly identical (initializing a BertForSequenceClassification model from a BertForSequenceClassification model).\n"
          ]
        },
        {
          "output_type": "stream",
          "name": "stdout",
          "text": [
            "(1) ***\n",
            "Question      : What is the focus of this course?\n",
            "answer indexes: 16 -> 23\n",
            "Answer Tokens : [1996, 3776, 4069, 1111, 2379, 1846, 6165]\n",
            "Answer        : deep learning methods for natural language processing\n",
            "\n",
            "(2) ***\n",
            "Question      : Who is this course intended for?\n",
            "answer indexes: 50 -> 57\n",
            "Answer Tokens : [4469, 1651, 1107, 2775, 2598, 1105, 23213]\n",
            "Answer        : graduate students in computer science and linguistics\n",
            "\n",
            "(3) ***\n",
            "Question      : What is the coursework?\n",
            "answer indexes: 118 -> 130\n",
            "Answer Tokens : [3455, 2793, 1844, 4580, 117, 4159, 15799, 117, 1105, 170, 1509, 1933]\n",
            "Answer        : reading recent research papers, programming assignments, and a final project\n",
            "\n"
          ]
        }
      ],
      "source": [
        "import textwrap\n",
        "task_name = \"SQuAD\"\n",
        "model_name_or_path = \"bert-base-cased-finetuned-squad\"\n",
        "pretrained_weights = os.path.join(pretrained_models_dir, model_name_or_path)\n",
        "task_type = \"question_answering\"\n",
        "model = AUTO_MODEL[task_type].from_pretrained(pretrained_weights)\n",
        "tokenizer = AutoTokenizer.from_pretrained(pretrained_weights)\n",
        "\n",
        "context = \"\"\"This course will broadly focus on deep learning methods for\n",
        "natural language processing. Most of the semester will focus on very recent\n",
        "transfer learning methods that have significantly pushed forward the state of\n",
        "the art. It is intended for graduate students in computer science and\n",
        "linguistics who are (1) interested in learning about cutting-edge research\n",
        "progress in NLP and (2) familiar with machine learning fundamentals. We will\n",
        "cover modeling architectures, training objectives, and downstream tasks (e.g.,\n",
        "text classification, question answering, and text generation). Coursework\n",
        "includes reading recent research papers, programming assignments, and a final\n",
        "project. This class will be asynchronous: lectures will be prerecorded and\n",
        "posted on a weekly basis, along with accompanying readings and assignments.\"\"\"\n",
        "\n",
        "questions = [\n",
        "    \"What is the focus of this course?\",\n",
        "    \"Who is this course intended for?\",\n",
        "    \"What is the coursework?\",\n",
        "]\n",
        "\n",
        "for idx, question in enumerate(questions, start=1):\n",
        "    inputs = tokenizer.encode_plus(question, context, add_special_tokens=True, return_tensors=\"pt\")\n",
        "    input_ids = inputs[\"input_ids\"].tolist()[0]\n",
        "\n",
        "    # YOUR CODE HERE!\n",
        "    outputs = model(**inputs)\n",
        "    start_logits = outputs.start_logits\n",
        "    end_logits = outputs.end_logits\n",
        "\n",
        "    answer_start = torch.argmax(start_logits)\n",
        "    answer_end = torch.argmax(end_logits) + 1\n",
        "    answer_tokens = input_ids[answer_start:answer_end]\n",
        "    answer_str = tokenizer.convert_tokens_to_string(tokenizer.convert_ids_to_tokens(answer_tokens))\n",
        "\n",
        "    print(f\"({idx}) ***\\n\\\n",
        "Question      : {textwrap.fill(question, width=100)}\\n\\\n",
        "answer indexes: {answer_start} -> {answer_end}\\n\\\n",
        "Answer Tokens : {answer_tokens}\\n\\\n",
        "Answer        : {answer_str}\\n\\\n",
        "\")"
      ]
    },
    {
      "cell_type": "markdown",
      "metadata": {
        "id": "MjPQa9bGhNKL"
      },
      "source": [
        "### Question 2.6 (5 points)\n",
        "Come up with a new question about this passage that the model gets wrong. The question must be answerable by the passage (i.e., its ground-truth answer should be a span of text within the passage). Show the model's predicted answer on this new sentence."
      ]
    },
    {
      "cell_type": "code",
      "execution_count": null,
      "metadata": {
        "id": "dJJeSHlZhfgH",
        "colab": {
          "base_uri": "https://localhost:8080/"
        },
        "outputId": "ee421639-09a6-48cf-bba4-73aacadee320"
      },
      "outputs": [
        {
          "output_type": "stream",
          "name": "stdout",
          "text": [
            "(1) ***\n",
            "Question      : What are the primary topics covered in this course?\n",
            "answer indexes: 92 -> 102\n",
            "Answer Tokens : [13117, 4220, 1116, 117, 2013, 11350, 117, 1105, 14102, 8249]\n",
            "Answer        : modeling architectures, training objectives, and downstream tasks\n",
            "\n",
            "(2) ***\n",
            "Question      : Who is the target audience for this course, and what background is expected of them?\n",
            "answer indexes: 60 -> 67\n",
            "Answer Tokens : [4469, 1651, 1107, 2775, 2598, 1105, 23213]\n",
            "Answer        : graduate students in computer science and linguistics\n",
            "\n",
            "your question: \"Who is the target audience for this course, and what background is expected of them?\"\n",
            "ground-truth answer: The target audience for this course is graduate students in computer science and linguistics. They are expected to be familiar with machine learning fundamentals.\n",
            "predicted answer: graduate students in computer science and linguistics\n"
          ]
        }
      ],
      "source": [
        "# If question is multi-part --it needs different part of reference passage to answer, which aren't contiguous-- it can't answer correctly as it is out of BERT's ability\n",
        "# your_question = '' # change to your question\n",
        "# your_answer = '' # change to your sentence's ground-truth answer\n",
        "# your_model_prediction = 'blah blah' # obviously, change this to the model's predicted answer span\n",
        "\n",
        "Your_qa_pairs = [\n",
        "    (\"What are the primary topics covered in this course?\", \"The primary topics covered in this course include deep learning methods for natural language processing and recent transfer learning methods.\"),\n",
        "    (\"Who is the target audience for this course, and what background is expected of them?\", \"The target audience for this course is graduate students in computer science and linguistics. They are expected to be familiar with machine learning fundamentals.\"),\n",
        "]\n",
        "your_question, your_answer = Your_qa_pairs[1]\n",
        "\n",
        "# YOUR CODE HERE\n",
        "for idx, (your_question, your_answer) in enumerate(Your_qa_pairs, start=1):\n",
        "    inputs = tokenizer.encode_plus(your_question, context, add_special_tokens=True, return_tensors=\"pt\")\n",
        "    input_ids = inputs[\"input_ids\"].tolist()[0]\n",
        "\n",
        "    outputs = model(**inputs)\n",
        "    start_logits = outputs.start_logits\n",
        "    end_logits = outputs.end_logits\n",
        "\n",
        "    answer_start = torch.argmax(start_logits)\n",
        "    answer_end = torch.argmax(end_logits) + 1\n",
        "    answer_tokens = input_ids[answer_start:answer_end]\n",
        "    answer_str = tokenizer.convert_tokens_to_string(tokenizer.convert_ids_to_tokens(answer_tokens))\n",
        "\n",
        "    print(f\"({idx}) ***\\n\\\n",
        "Question      : {textwrap.fill(your_question, width=100)}\\n\\\n",
        "answer indexes: {answer_start} -> {answer_end}\\n\\\n",
        "Answer Tokens : {answer_tokens}\\n\\\n",
        "Answer        : {answer_str}\\n\\\n",
        "\")\n",
        "    your_model_prediction = answer_str\n",
        "\n",
        "\n",
        "\n",
        "print('your question: \"%s\"\\nground-truth answer: %s\\npredicted answer: %s'\\\n",
        "      % (your_question, your_answer, your_model_prediction))"
      ]
    },
    {
      "cell_type": "markdown",
      "metadata": {
        "id": "ZyS1OJ6sh70y"
      },
      "source": [
        "### Question 2.7 (5 points)\n",
        "Provide a reasonable explanation as to why the model got your question wrong. Also provide a plausible method to improve the underlying QA model so that this kind of error stops happening."
      ]
    },
    {
      "cell_type": "markdown",
      "metadata": {
        "id": "pb24NVS_h70z"
      },
      "source": [
        "***WRITE YOUR ANSWER HERE IN A FEW SENTENCES***"
      ]
    },
    {
      "cell_type": "markdown",
      "metadata": {
        "id": "HL8W-Ku8tVLT"
      },
      "source": [
        "## AI Disclosure\n",
        "\n",
        "*   Did you use any AI assistance to complete this homework? If so, please also specify what AI you used.\n",
        "    * *your response here*\n",
        "\n",
        "\n",
        "---\n",
        "*(only complete the below questions if you answered yes above)*\n",
        "\n",
        "*   If you used a large language model to assist you, please paste *all* of the prompts that you used below. Add a separate bullet for each prompt, and specify which problem is associated with which prompt.\n",
        "    * *your response here*\n",
        "*   **Free response**: For each problem for which you used assistance, describe your overall experience with the AI. How helpful was it? Did it just directly give you a good answer, or did you have to edit it? Was its output ever obviously wrong or irrelevant? Did you use it to get the answer or check your own answer?\n",
        "    * *your response here*\n"
      ]
    }
  ],
  "metadata": {
    "colab": {
      "collapsed_sections": [
        "sIGZBVK96ARd"
      ],
      "provenance": [],
      "gpuType": "T4"
    },
    "kernelspec": {
      "display_name": "Python 3",
      "name": "python3"
    },
    "widgets": {
      "application/vnd.jupyter.widget-state+json": {
        "252c8f660b3847e2a571f2f2625baf79": {
          "model_module": "@jupyter-widgets/controls",
          "model_name": "HBoxModel",
          "model_module_version": "1.5.0",
          "state": {
            "_dom_classes": [],
            "_model_module": "@jupyter-widgets/controls",
            "_model_module_version": "1.5.0",
            "_model_name": "HBoxModel",
            "_view_count": null,
            "_view_module": "@jupyter-widgets/controls",
            "_view_module_version": "1.5.0",
            "_view_name": "HBoxView",
            "box_style": "",
            "children": [
              "IPY_MODEL_9b6cc98e22bd49939195babeeb0741e0",
              "IPY_MODEL_330328e9f84a46dab1b05a8db96833c2",
              "IPY_MODEL_e6a04d9bec4944ecb8b33f52ee20043b"
            ],
            "layout": "IPY_MODEL_c393a33d96a84b24b58a717545cdbcaa"
          }
        },
        "9b6cc98e22bd49939195babeeb0741e0": {
          "model_module": "@jupyter-widgets/controls",
          "model_name": "HTMLModel",
          "model_module_version": "1.5.0",
          "state": {
            "_dom_classes": [],
            "_model_module": "@jupyter-widgets/controls",
            "_model_module_version": "1.5.0",
            "_model_name": "HTMLModel",
            "_view_count": null,
            "_view_module": "@jupyter-widgets/controls",
            "_view_module_version": "1.5.0",
            "_view_name": "HTMLView",
            "description": "",
            "description_tooltip": null,
            "layout": "IPY_MODEL_1b8b5fa3ad2148989c61f2d0fdf52bb5",
            "placeholder": "​",
            "style": "IPY_MODEL_2643004aee59442b96e7e128a53b8e39",
            "value": "tokenizer_config.json: 100%"
          }
        },
        "330328e9f84a46dab1b05a8db96833c2": {
          "model_module": "@jupyter-widgets/controls",
          "model_name": "FloatProgressModel",
          "model_module_version": "1.5.0",
          "state": {
            "_dom_classes": [],
            "_model_module": "@jupyter-widgets/controls",
            "_model_module_version": "1.5.0",
            "_model_name": "FloatProgressModel",
            "_view_count": null,
            "_view_module": "@jupyter-widgets/controls",
            "_view_module_version": "1.5.0",
            "_view_name": "ProgressView",
            "bar_style": "success",
            "description": "",
            "description_tooltip": null,
            "layout": "IPY_MODEL_87855eacb4db462c963cf86d3ed99bfe",
            "max": 48,
            "min": 0,
            "orientation": "horizontal",
            "style": "IPY_MODEL_0e57e416a7e941fb8a003bc4f85937d8",
            "value": 48
          }
        },
        "e6a04d9bec4944ecb8b33f52ee20043b": {
          "model_module": "@jupyter-widgets/controls",
          "model_name": "HTMLModel",
          "model_module_version": "1.5.0",
          "state": {
            "_dom_classes": [],
            "_model_module": "@jupyter-widgets/controls",
            "_model_module_version": "1.5.0",
            "_model_name": "HTMLModel",
            "_view_count": null,
            "_view_module": "@jupyter-widgets/controls",
            "_view_module_version": "1.5.0",
            "_view_name": "HTMLView",
            "description": "",
            "description_tooltip": null,
            "layout": "IPY_MODEL_d91baeddd0684613b6ba8a470a90ddfe",
            "placeholder": "​",
            "style": "IPY_MODEL_1e2184b90bd446ba9036eae6ccb52a3d",
            "value": " 48.0/48.0 [00:00&lt;00:00, 1.88kB/s]"
          }
        },
        "c393a33d96a84b24b58a717545cdbcaa": {
          "model_module": "@jupyter-widgets/base",
          "model_name": "LayoutModel",
          "model_module_version": "1.2.0",
          "state": {
            "_model_module": "@jupyter-widgets/base",
            "_model_module_version": "1.2.0",
            "_model_name": "LayoutModel",
            "_view_count": null,
            "_view_module": "@jupyter-widgets/base",
            "_view_module_version": "1.2.0",
            "_view_name": "LayoutView",
            "align_content": null,
            "align_items": null,
            "align_self": null,
            "border": null,
            "bottom": null,
            "display": null,
            "flex": null,
            "flex_flow": null,
            "grid_area": null,
            "grid_auto_columns": null,
            "grid_auto_flow": null,
            "grid_auto_rows": null,
            "grid_column": null,
            "grid_gap": null,
            "grid_row": null,
            "grid_template_areas": null,
            "grid_template_columns": null,
            "grid_template_rows": null,
            "height": null,
            "justify_content": null,
            "justify_items": null,
            "left": null,
            "margin": null,
            "max_height": null,
            "max_width": null,
            "min_height": null,
            "min_width": null,
            "object_fit": null,
            "object_position": null,
            "order": null,
            "overflow": null,
            "overflow_x": null,
            "overflow_y": null,
            "padding": null,
            "right": null,
            "top": null,
            "visibility": null,
            "width": null
          }
        },
        "1b8b5fa3ad2148989c61f2d0fdf52bb5": {
          "model_module": "@jupyter-widgets/base",
          "model_name": "LayoutModel",
          "model_module_version": "1.2.0",
          "state": {
            "_model_module": "@jupyter-widgets/base",
            "_model_module_version": "1.2.0",
            "_model_name": "LayoutModel",
            "_view_count": null,
            "_view_module": "@jupyter-widgets/base",
            "_view_module_version": "1.2.0",
            "_view_name": "LayoutView",
            "align_content": null,
            "align_items": null,
            "align_self": null,
            "border": null,
            "bottom": null,
            "display": null,
            "flex": null,
            "flex_flow": null,
            "grid_area": null,
            "grid_auto_columns": null,
            "grid_auto_flow": null,
            "grid_auto_rows": null,
            "grid_column": null,
            "grid_gap": null,
            "grid_row": null,
            "grid_template_areas": null,
            "grid_template_columns": null,
            "grid_template_rows": null,
            "height": null,
            "justify_content": null,
            "justify_items": null,
            "left": null,
            "margin": null,
            "max_height": null,
            "max_width": null,
            "min_height": null,
            "min_width": null,
            "object_fit": null,
            "object_position": null,
            "order": null,
            "overflow": null,
            "overflow_x": null,
            "overflow_y": null,
            "padding": null,
            "right": null,
            "top": null,
            "visibility": null,
            "width": null
          }
        },
        "2643004aee59442b96e7e128a53b8e39": {
          "model_module": "@jupyter-widgets/controls",
          "model_name": "DescriptionStyleModel",
          "model_module_version": "1.5.0",
          "state": {
            "_model_module": "@jupyter-widgets/controls",
            "_model_module_version": "1.5.0",
            "_model_name": "DescriptionStyleModel",
            "_view_count": null,
            "_view_module": "@jupyter-widgets/base",
            "_view_module_version": "1.2.0",
            "_view_name": "StyleView",
            "description_width": ""
          }
        },
        "87855eacb4db462c963cf86d3ed99bfe": {
          "model_module": "@jupyter-widgets/base",
          "model_name": "LayoutModel",
          "model_module_version": "1.2.0",
          "state": {
            "_model_module": "@jupyter-widgets/base",
            "_model_module_version": "1.2.0",
            "_model_name": "LayoutModel",
            "_view_count": null,
            "_view_module": "@jupyter-widgets/base",
            "_view_module_version": "1.2.0",
            "_view_name": "LayoutView",
            "align_content": null,
            "align_items": null,
            "align_self": null,
            "border": null,
            "bottom": null,
            "display": null,
            "flex": null,
            "flex_flow": null,
            "grid_area": null,
            "grid_auto_columns": null,
            "grid_auto_flow": null,
            "grid_auto_rows": null,
            "grid_column": null,
            "grid_gap": null,
            "grid_row": null,
            "grid_template_areas": null,
            "grid_template_columns": null,
            "grid_template_rows": null,
            "height": null,
            "justify_content": null,
            "justify_items": null,
            "left": null,
            "margin": null,
            "max_height": null,
            "max_width": null,
            "min_height": null,
            "min_width": null,
            "object_fit": null,
            "object_position": null,
            "order": null,
            "overflow": null,
            "overflow_x": null,
            "overflow_y": null,
            "padding": null,
            "right": null,
            "top": null,
            "visibility": null,
            "width": null
          }
        },
        "0e57e416a7e941fb8a003bc4f85937d8": {
          "model_module": "@jupyter-widgets/controls",
          "model_name": "ProgressStyleModel",
          "model_module_version": "1.5.0",
          "state": {
            "_model_module": "@jupyter-widgets/controls",
            "_model_module_version": "1.5.0",
            "_model_name": "ProgressStyleModel",
            "_view_count": null,
            "_view_module": "@jupyter-widgets/base",
            "_view_module_version": "1.2.0",
            "_view_name": "StyleView",
            "bar_color": null,
            "description_width": ""
          }
        },
        "d91baeddd0684613b6ba8a470a90ddfe": {
          "model_module": "@jupyter-widgets/base",
          "model_name": "LayoutModel",
          "model_module_version": "1.2.0",
          "state": {
            "_model_module": "@jupyter-widgets/base",
            "_model_module_version": "1.2.0",
            "_model_name": "LayoutModel",
            "_view_count": null,
            "_view_module": "@jupyter-widgets/base",
            "_view_module_version": "1.2.0",
            "_view_name": "LayoutView",
            "align_content": null,
            "align_items": null,
            "align_self": null,
            "border": null,
            "bottom": null,
            "display": null,
            "flex": null,
            "flex_flow": null,
            "grid_area": null,
            "grid_auto_columns": null,
            "grid_auto_flow": null,
            "grid_auto_rows": null,
            "grid_column": null,
            "grid_gap": null,
            "grid_row": null,
            "grid_template_areas": null,
            "grid_template_columns": null,
            "grid_template_rows": null,
            "height": null,
            "justify_content": null,
            "justify_items": null,
            "left": null,
            "margin": null,
            "max_height": null,
            "max_width": null,
            "min_height": null,
            "min_width": null,
            "object_fit": null,
            "object_position": null,
            "order": null,
            "overflow": null,
            "overflow_x": null,
            "overflow_y": null,
            "padding": null,
            "right": null,
            "top": null,
            "visibility": null,
            "width": null
          }
        },
        "1e2184b90bd446ba9036eae6ccb52a3d": {
          "model_module": "@jupyter-widgets/controls",
          "model_name": "DescriptionStyleModel",
          "model_module_version": "1.5.0",
          "state": {
            "_model_module": "@jupyter-widgets/controls",
            "_model_module_version": "1.5.0",
            "_model_name": "DescriptionStyleModel",
            "_view_count": null,
            "_view_module": "@jupyter-widgets/base",
            "_view_module_version": "1.2.0",
            "_view_name": "StyleView",
            "description_width": ""
          }
        },
        "2b5c2b8f66bb4858bc0cb3d5eb6d8497": {
          "model_module": "@jupyter-widgets/controls",
          "model_name": "HBoxModel",
          "model_module_version": "1.5.0",
          "state": {
            "_dom_classes": [],
            "_model_module": "@jupyter-widgets/controls",
            "_model_module_version": "1.5.0",
            "_model_name": "HBoxModel",
            "_view_count": null,
            "_view_module": "@jupyter-widgets/controls",
            "_view_module_version": "1.5.0",
            "_view_name": "HBoxView",
            "box_style": "",
            "children": [
              "IPY_MODEL_3f0036bb0e954949af3b6f2ad6f3df46",
              "IPY_MODEL_ce4ba3fe09fa413dbf58a419573f8766",
              "IPY_MODEL_d2598997fa3143afaf9d17ba1bd45220"
            ],
            "layout": "IPY_MODEL_598a9f016a814d33ab9d53ff5590f50a"
          }
        },
        "3f0036bb0e954949af3b6f2ad6f3df46": {
          "model_module": "@jupyter-widgets/controls",
          "model_name": "HTMLModel",
          "model_module_version": "1.5.0",
          "state": {
            "_dom_classes": [],
            "_model_module": "@jupyter-widgets/controls",
            "_model_module_version": "1.5.0",
            "_model_name": "HTMLModel",
            "_view_count": null,
            "_view_module": "@jupyter-widgets/controls",
            "_view_module_version": "1.5.0",
            "_view_name": "HTMLView",
            "description": "",
            "description_tooltip": null,
            "layout": "IPY_MODEL_2f72b1d86b30422bb3b80b4a1ce79302",
            "placeholder": "​",
            "style": "IPY_MODEL_ea33e6ff8325494b93b058d8ab342318",
            "value": "vocab.txt: 100%"
          }
        },
        "ce4ba3fe09fa413dbf58a419573f8766": {
          "model_module": "@jupyter-widgets/controls",
          "model_name": "FloatProgressModel",
          "model_module_version": "1.5.0",
          "state": {
            "_dom_classes": [],
            "_model_module": "@jupyter-widgets/controls",
            "_model_module_version": "1.5.0",
            "_model_name": "FloatProgressModel",
            "_view_count": null,
            "_view_module": "@jupyter-widgets/controls",
            "_view_module_version": "1.5.0",
            "_view_name": "ProgressView",
            "bar_style": "success",
            "description": "",
            "description_tooltip": null,
            "layout": "IPY_MODEL_6f772c296e8c40448bdf403364231e7e",
            "max": 231508,
            "min": 0,
            "orientation": "horizontal",
            "style": "IPY_MODEL_b5a193847a7d40cbbcf90d50c4ebc152",
            "value": 231508
          }
        },
        "d2598997fa3143afaf9d17ba1bd45220": {
          "model_module": "@jupyter-widgets/controls",
          "model_name": "HTMLModel",
          "model_module_version": "1.5.0",
          "state": {
            "_dom_classes": [],
            "_model_module": "@jupyter-widgets/controls",
            "_model_module_version": "1.5.0",
            "_model_name": "HTMLModel",
            "_view_count": null,
            "_view_module": "@jupyter-widgets/controls",
            "_view_module_version": "1.5.0",
            "_view_name": "HTMLView",
            "description": "",
            "description_tooltip": null,
            "layout": "IPY_MODEL_3696739925564c23be7928559f546a75",
            "placeholder": "​",
            "style": "IPY_MODEL_60c347797ef3487dacdba3a26039d59c",
            "value": " 232k/232k [00:00&lt;00:00, 468kB/s]"
          }
        },
        "598a9f016a814d33ab9d53ff5590f50a": {
          "model_module": "@jupyter-widgets/base",
          "model_name": "LayoutModel",
          "model_module_version": "1.2.0",
          "state": {
            "_model_module": "@jupyter-widgets/base",
            "_model_module_version": "1.2.0",
            "_model_name": "LayoutModel",
            "_view_count": null,
            "_view_module": "@jupyter-widgets/base",
            "_view_module_version": "1.2.0",
            "_view_name": "LayoutView",
            "align_content": null,
            "align_items": null,
            "align_self": null,
            "border": null,
            "bottom": null,
            "display": null,
            "flex": null,
            "flex_flow": null,
            "grid_area": null,
            "grid_auto_columns": null,
            "grid_auto_flow": null,
            "grid_auto_rows": null,
            "grid_column": null,
            "grid_gap": null,
            "grid_row": null,
            "grid_template_areas": null,
            "grid_template_columns": null,
            "grid_template_rows": null,
            "height": null,
            "justify_content": null,
            "justify_items": null,
            "left": null,
            "margin": null,
            "max_height": null,
            "max_width": null,
            "min_height": null,
            "min_width": null,
            "object_fit": null,
            "object_position": null,
            "order": null,
            "overflow": null,
            "overflow_x": null,
            "overflow_y": null,
            "padding": null,
            "right": null,
            "top": null,
            "visibility": null,
            "width": null
          }
        },
        "2f72b1d86b30422bb3b80b4a1ce79302": {
          "model_module": "@jupyter-widgets/base",
          "model_name": "LayoutModel",
          "model_module_version": "1.2.0",
          "state": {
            "_model_module": "@jupyter-widgets/base",
            "_model_module_version": "1.2.0",
            "_model_name": "LayoutModel",
            "_view_count": null,
            "_view_module": "@jupyter-widgets/base",
            "_view_module_version": "1.2.0",
            "_view_name": "LayoutView",
            "align_content": null,
            "align_items": null,
            "align_self": null,
            "border": null,
            "bottom": null,
            "display": null,
            "flex": null,
            "flex_flow": null,
            "grid_area": null,
            "grid_auto_columns": null,
            "grid_auto_flow": null,
            "grid_auto_rows": null,
            "grid_column": null,
            "grid_gap": null,
            "grid_row": null,
            "grid_template_areas": null,
            "grid_template_columns": null,
            "grid_template_rows": null,
            "height": null,
            "justify_content": null,
            "justify_items": null,
            "left": null,
            "margin": null,
            "max_height": null,
            "max_width": null,
            "min_height": null,
            "min_width": null,
            "object_fit": null,
            "object_position": null,
            "order": null,
            "overflow": null,
            "overflow_x": null,
            "overflow_y": null,
            "padding": null,
            "right": null,
            "top": null,
            "visibility": null,
            "width": null
          }
        },
        "ea33e6ff8325494b93b058d8ab342318": {
          "model_module": "@jupyter-widgets/controls",
          "model_name": "DescriptionStyleModel",
          "model_module_version": "1.5.0",
          "state": {
            "_model_module": "@jupyter-widgets/controls",
            "_model_module_version": "1.5.0",
            "_model_name": "DescriptionStyleModel",
            "_view_count": null,
            "_view_module": "@jupyter-widgets/base",
            "_view_module_version": "1.2.0",
            "_view_name": "StyleView",
            "description_width": ""
          }
        },
        "6f772c296e8c40448bdf403364231e7e": {
          "model_module": "@jupyter-widgets/base",
          "model_name": "LayoutModel",
          "model_module_version": "1.2.0",
          "state": {
            "_model_module": "@jupyter-widgets/base",
            "_model_module_version": "1.2.0",
            "_model_name": "LayoutModel",
            "_view_count": null,
            "_view_module": "@jupyter-widgets/base",
            "_view_module_version": "1.2.0",
            "_view_name": "LayoutView",
            "align_content": null,
            "align_items": null,
            "align_self": null,
            "border": null,
            "bottom": null,
            "display": null,
            "flex": null,
            "flex_flow": null,
            "grid_area": null,
            "grid_auto_columns": null,
            "grid_auto_flow": null,
            "grid_auto_rows": null,
            "grid_column": null,
            "grid_gap": null,
            "grid_row": null,
            "grid_template_areas": null,
            "grid_template_columns": null,
            "grid_template_rows": null,
            "height": null,
            "justify_content": null,
            "justify_items": null,
            "left": null,
            "margin": null,
            "max_height": null,
            "max_width": null,
            "min_height": null,
            "min_width": null,
            "object_fit": null,
            "object_position": null,
            "order": null,
            "overflow": null,
            "overflow_x": null,
            "overflow_y": null,
            "padding": null,
            "right": null,
            "top": null,
            "visibility": null,
            "width": null
          }
        },
        "b5a193847a7d40cbbcf90d50c4ebc152": {
          "model_module": "@jupyter-widgets/controls",
          "model_name": "ProgressStyleModel",
          "model_module_version": "1.5.0",
          "state": {
            "_model_module": "@jupyter-widgets/controls",
            "_model_module_version": "1.5.0",
            "_model_name": "ProgressStyleModel",
            "_view_count": null,
            "_view_module": "@jupyter-widgets/base",
            "_view_module_version": "1.2.0",
            "_view_name": "StyleView",
            "bar_color": null,
            "description_width": ""
          }
        },
        "3696739925564c23be7928559f546a75": {
          "model_module": "@jupyter-widgets/base",
          "model_name": "LayoutModel",
          "model_module_version": "1.2.0",
          "state": {
            "_model_module": "@jupyter-widgets/base",
            "_model_module_version": "1.2.0",
            "_model_name": "LayoutModel",
            "_view_count": null,
            "_view_module": "@jupyter-widgets/base",
            "_view_module_version": "1.2.0",
            "_view_name": "LayoutView",
            "align_content": null,
            "align_items": null,
            "align_self": null,
            "border": null,
            "bottom": null,
            "display": null,
            "flex": null,
            "flex_flow": null,
            "grid_area": null,
            "grid_auto_columns": null,
            "grid_auto_flow": null,
            "grid_auto_rows": null,
            "grid_column": null,
            "grid_gap": null,
            "grid_row": null,
            "grid_template_areas": null,
            "grid_template_columns": null,
            "grid_template_rows": null,
            "height": null,
            "justify_content": null,
            "justify_items": null,
            "left": null,
            "margin": null,
            "max_height": null,
            "max_width": null,
            "min_height": null,
            "min_width": null,
            "object_fit": null,
            "object_position": null,
            "order": null,
            "overflow": null,
            "overflow_x": null,
            "overflow_y": null,
            "padding": null,
            "right": null,
            "top": null,
            "visibility": null,
            "width": null
          }
        },
        "60c347797ef3487dacdba3a26039d59c": {
          "model_module": "@jupyter-widgets/controls",
          "model_name": "DescriptionStyleModel",
          "model_module_version": "1.5.0",
          "state": {
            "_model_module": "@jupyter-widgets/controls",
            "_model_module_version": "1.5.0",
            "_model_name": "DescriptionStyleModel",
            "_view_count": null,
            "_view_module": "@jupyter-widgets/base",
            "_view_module_version": "1.2.0",
            "_view_name": "StyleView",
            "description_width": ""
          }
        },
        "4338d1ccee3e4fa3846dcf5dea28a48e": {
          "model_module": "@jupyter-widgets/controls",
          "model_name": "HBoxModel",
          "model_module_version": "1.5.0",
          "state": {
            "_dom_classes": [],
            "_model_module": "@jupyter-widgets/controls",
            "_model_module_version": "1.5.0",
            "_model_name": "HBoxModel",
            "_view_count": null,
            "_view_module": "@jupyter-widgets/controls",
            "_view_module_version": "1.5.0",
            "_view_name": "HBoxView",
            "box_style": "",
            "children": [
              "IPY_MODEL_56e71604b8914ae7a7e22bcd0c1249a6",
              "IPY_MODEL_0e05e93223524700b936af4a90145a7a",
              "IPY_MODEL_fee50a9dd61f41d1a73bf0ac84410ba4"
            ],
            "layout": "IPY_MODEL_d2f1f60a5a624dac9dd64c0a147cf264"
          }
        },
        "56e71604b8914ae7a7e22bcd0c1249a6": {
          "model_module": "@jupyter-widgets/controls",
          "model_name": "HTMLModel",
          "model_module_version": "1.5.0",
          "state": {
            "_dom_classes": [],
            "_model_module": "@jupyter-widgets/controls",
            "_model_module_version": "1.5.0",
            "_model_name": "HTMLModel",
            "_view_count": null,
            "_view_module": "@jupyter-widgets/controls",
            "_view_module_version": "1.5.0",
            "_view_name": "HTMLView",
            "description": "",
            "description_tooltip": null,
            "layout": "IPY_MODEL_cf9a395a66174598b7727b00a9632fe4",
            "placeholder": "​",
            "style": "IPY_MODEL_88f0722d13094c50a777e140b10538c8",
            "value": "tokenizer.json: 100%"
          }
        },
        "0e05e93223524700b936af4a90145a7a": {
          "model_module": "@jupyter-widgets/controls",
          "model_name": "FloatProgressModel",
          "model_module_version": "1.5.0",
          "state": {
            "_dom_classes": [],
            "_model_module": "@jupyter-widgets/controls",
            "_model_module_version": "1.5.0",
            "_model_name": "FloatProgressModel",
            "_view_count": null,
            "_view_module": "@jupyter-widgets/controls",
            "_view_module_version": "1.5.0",
            "_view_name": "ProgressView",
            "bar_style": "success",
            "description": "",
            "description_tooltip": null,
            "layout": "IPY_MODEL_2a551f531a04472e97006e0e9ef7ebab",
            "max": 466062,
            "min": 0,
            "orientation": "horizontal",
            "style": "IPY_MODEL_a3be184c83aa437d89c4e6c5c5e2f277",
            "value": 466062
          }
        },
        "fee50a9dd61f41d1a73bf0ac84410ba4": {
          "model_module": "@jupyter-widgets/controls",
          "model_name": "HTMLModel",
          "model_module_version": "1.5.0",
          "state": {
            "_dom_classes": [],
            "_model_module": "@jupyter-widgets/controls",
            "_model_module_version": "1.5.0",
            "_model_name": "HTMLModel",
            "_view_count": null,
            "_view_module": "@jupyter-widgets/controls",
            "_view_module_version": "1.5.0",
            "_view_name": "HTMLView",
            "description": "",
            "description_tooltip": null,
            "layout": "IPY_MODEL_ab24426edb36426dbcd5ae0e4c96fb17",
            "placeholder": "​",
            "style": "IPY_MODEL_bced5f635eaf4e09942b4fdedd142929",
            "value": " 466k/466k [00:00&lt;00:00, 963kB/s]"
          }
        },
        "d2f1f60a5a624dac9dd64c0a147cf264": {
          "model_module": "@jupyter-widgets/base",
          "model_name": "LayoutModel",
          "model_module_version": "1.2.0",
          "state": {
            "_model_module": "@jupyter-widgets/base",
            "_model_module_version": "1.2.0",
            "_model_name": "LayoutModel",
            "_view_count": null,
            "_view_module": "@jupyter-widgets/base",
            "_view_module_version": "1.2.0",
            "_view_name": "LayoutView",
            "align_content": null,
            "align_items": null,
            "align_self": null,
            "border": null,
            "bottom": null,
            "display": null,
            "flex": null,
            "flex_flow": null,
            "grid_area": null,
            "grid_auto_columns": null,
            "grid_auto_flow": null,
            "grid_auto_rows": null,
            "grid_column": null,
            "grid_gap": null,
            "grid_row": null,
            "grid_template_areas": null,
            "grid_template_columns": null,
            "grid_template_rows": null,
            "height": null,
            "justify_content": null,
            "justify_items": null,
            "left": null,
            "margin": null,
            "max_height": null,
            "max_width": null,
            "min_height": null,
            "min_width": null,
            "object_fit": null,
            "object_position": null,
            "order": null,
            "overflow": null,
            "overflow_x": null,
            "overflow_y": null,
            "padding": null,
            "right": null,
            "top": null,
            "visibility": null,
            "width": null
          }
        },
        "cf9a395a66174598b7727b00a9632fe4": {
          "model_module": "@jupyter-widgets/base",
          "model_name": "LayoutModel",
          "model_module_version": "1.2.0",
          "state": {
            "_model_module": "@jupyter-widgets/base",
            "_model_module_version": "1.2.0",
            "_model_name": "LayoutModel",
            "_view_count": null,
            "_view_module": "@jupyter-widgets/base",
            "_view_module_version": "1.2.0",
            "_view_name": "LayoutView",
            "align_content": null,
            "align_items": null,
            "align_self": null,
            "border": null,
            "bottom": null,
            "display": null,
            "flex": null,
            "flex_flow": null,
            "grid_area": null,
            "grid_auto_columns": null,
            "grid_auto_flow": null,
            "grid_auto_rows": null,
            "grid_column": null,
            "grid_gap": null,
            "grid_row": null,
            "grid_template_areas": null,
            "grid_template_columns": null,
            "grid_template_rows": null,
            "height": null,
            "justify_content": null,
            "justify_items": null,
            "left": null,
            "margin": null,
            "max_height": null,
            "max_width": null,
            "min_height": null,
            "min_width": null,
            "object_fit": null,
            "object_position": null,
            "order": null,
            "overflow": null,
            "overflow_x": null,
            "overflow_y": null,
            "padding": null,
            "right": null,
            "top": null,
            "visibility": null,
            "width": null
          }
        },
        "88f0722d13094c50a777e140b10538c8": {
          "model_module": "@jupyter-widgets/controls",
          "model_name": "DescriptionStyleModel",
          "model_module_version": "1.5.0",
          "state": {
            "_model_module": "@jupyter-widgets/controls",
            "_model_module_version": "1.5.0",
            "_model_name": "DescriptionStyleModel",
            "_view_count": null,
            "_view_module": "@jupyter-widgets/base",
            "_view_module_version": "1.2.0",
            "_view_name": "StyleView",
            "description_width": ""
          }
        },
        "2a551f531a04472e97006e0e9ef7ebab": {
          "model_module": "@jupyter-widgets/base",
          "model_name": "LayoutModel",
          "model_module_version": "1.2.0",
          "state": {
            "_model_module": "@jupyter-widgets/base",
            "_model_module_version": "1.2.0",
            "_model_name": "LayoutModel",
            "_view_count": null,
            "_view_module": "@jupyter-widgets/base",
            "_view_module_version": "1.2.0",
            "_view_name": "LayoutView",
            "align_content": null,
            "align_items": null,
            "align_self": null,
            "border": null,
            "bottom": null,
            "display": null,
            "flex": null,
            "flex_flow": null,
            "grid_area": null,
            "grid_auto_columns": null,
            "grid_auto_flow": null,
            "grid_auto_rows": null,
            "grid_column": null,
            "grid_gap": null,
            "grid_row": null,
            "grid_template_areas": null,
            "grid_template_columns": null,
            "grid_template_rows": null,
            "height": null,
            "justify_content": null,
            "justify_items": null,
            "left": null,
            "margin": null,
            "max_height": null,
            "max_width": null,
            "min_height": null,
            "min_width": null,
            "object_fit": null,
            "object_position": null,
            "order": null,
            "overflow": null,
            "overflow_x": null,
            "overflow_y": null,
            "padding": null,
            "right": null,
            "top": null,
            "visibility": null,
            "width": null
          }
        },
        "a3be184c83aa437d89c4e6c5c5e2f277": {
          "model_module": "@jupyter-widgets/controls",
          "model_name": "ProgressStyleModel",
          "model_module_version": "1.5.0",
          "state": {
            "_model_module": "@jupyter-widgets/controls",
            "_model_module_version": "1.5.0",
            "_model_name": "ProgressStyleModel",
            "_view_count": null,
            "_view_module": "@jupyter-widgets/base",
            "_view_module_version": "1.2.0",
            "_view_name": "StyleView",
            "bar_color": null,
            "description_width": ""
          }
        },
        "ab24426edb36426dbcd5ae0e4c96fb17": {
          "model_module": "@jupyter-widgets/base",
          "model_name": "LayoutModel",
          "model_module_version": "1.2.0",
          "state": {
            "_model_module": "@jupyter-widgets/base",
            "_model_module_version": "1.2.0",
            "_model_name": "LayoutModel",
            "_view_count": null,
            "_view_module": "@jupyter-widgets/base",
            "_view_module_version": "1.2.0",
            "_view_name": "LayoutView",
            "align_content": null,
            "align_items": null,
            "align_self": null,
            "border": null,
            "bottom": null,
            "display": null,
            "flex": null,
            "flex_flow": null,
            "grid_area": null,
            "grid_auto_columns": null,
            "grid_auto_flow": null,
            "grid_auto_rows": null,
            "grid_column": null,
            "grid_gap": null,
            "grid_row": null,
            "grid_template_areas": null,
            "grid_template_columns": null,
            "grid_template_rows": null,
            "height": null,
            "justify_content": null,
            "justify_items": null,
            "left": null,
            "margin": null,
            "max_height": null,
            "max_width": null,
            "min_height": null,
            "min_width": null,
            "object_fit": null,
            "object_position": null,
            "order": null,
            "overflow": null,
            "overflow_x": null,
            "overflow_y": null,
            "padding": null,
            "right": null,
            "top": null,
            "visibility": null,
            "width": null
          }
        },
        "bced5f635eaf4e09942b4fdedd142929": {
          "model_module": "@jupyter-widgets/controls",
          "model_name": "DescriptionStyleModel",
          "model_module_version": "1.5.0",
          "state": {
            "_model_module": "@jupyter-widgets/controls",
            "_model_module_version": "1.5.0",
            "_model_name": "DescriptionStyleModel",
            "_view_count": null,
            "_view_module": "@jupyter-widgets/base",
            "_view_module_version": "1.2.0",
            "_view_name": "StyleView",
            "description_width": ""
          }
        },
        "1b1fa0f1b9b44fa78fd3d2671afb6459": {
          "model_module": "@jupyter-widgets/controls",
          "model_name": "HBoxModel",
          "model_module_version": "1.5.0",
          "state": {
            "_dom_classes": [],
            "_model_module": "@jupyter-widgets/controls",
            "_model_module_version": "1.5.0",
            "_model_name": "HBoxModel",
            "_view_count": null,
            "_view_module": "@jupyter-widgets/controls",
            "_view_module_version": "1.5.0",
            "_view_name": "HBoxView",
            "box_style": "",
            "children": [
              "IPY_MODEL_a81317eb460f49f9a86b2fccef6fa0ba",
              "IPY_MODEL_daaa04eb8455453399979ac7fa9d9a73",
              "IPY_MODEL_5cda8896846740509f3136a599c4d87a"
            ],
            "layout": "IPY_MODEL_17101187e7ef4e4b9da948e0380841a6"
          }
        },
        "a81317eb460f49f9a86b2fccef6fa0ba": {
          "model_module": "@jupyter-widgets/controls",
          "model_name": "HTMLModel",
          "model_module_version": "1.5.0",
          "state": {
            "_dom_classes": [],
            "_model_module": "@jupyter-widgets/controls",
            "_model_module_version": "1.5.0",
            "_model_name": "HTMLModel",
            "_view_count": null,
            "_view_module": "@jupyter-widgets/controls",
            "_view_module_version": "1.5.0",
            "_view_name": "HTMLView",
            "description": "",
            "description_tooltip": null,
            "layout": "IPY_MODEL_dcb84997ae984488b06e0890e57f4b39",
            "placeholder": "​",
            "style": "IPY_MODEL_e2c38e70b3e04c08979c8704a835d4f9",
            "value": "config.json: 100%"
          }
        },
        "daaa04eb8455453399979ac7fa9d9a73": {
          "model_module": "@jupyter-widgets/controls",
          "model_name": "FloatProgressModel",
          "model_module_version": "1.5.0",
          "state": {
            "_dom_classes": [],
            "_model_module": "@jupyter-widgets/controls",
            "_model_module_version": "1.5.0",
            "_model_name": "FloatProgressModel",
            "_view_count": null,
            "_view_module": "@jupyter-widgets/controls",
            "_view_module_version": "1.5.0",
            "_view_name": "ProgressView",
            "bar_style": "success",
            "description": "",
            "description_tooltip": null,
            "layout": "IPY_MODEL_3f507fd359b74d6d990fe390469e79aa",
            "max": 570,
            "min": 0,
            "orientation": "horizontal",
            "style": "IPY_MODEL_d151d5505a144b0486bcaed5d81d0e9a",
            "value": 570
          }
        },
        "5cda8896846740509f3136a599c4d87a": {
          "model_module": "@jupyter-widgets/controls",
          "model_name": "HTMLModel",
          "model_module_version": "1.5.0",
          "state": {
            "_dom_classes": [],
            "_model_module": "@jupyter-widgets/controls",
            "_model_module_version": "1.5.0",
            "_model_name": "HTMLModel",
            "_view_count": null,
            "_view_module": "@jupyter-widgets/controls",
            "_view_module_version": "1.5.0",
            "_view_name": "HTMLView",
            "description": "",
            "description_tooltip": null,
            "layout": "IPY_MODEL_f8e942ad6c1b4e2886e38d1992de2826",
            "placeholder": "​",
            "style": "IPY_MODEL_17903da327c64632bf7c763bffaba5ec",
            "value": " 570/570 [00:00&lt;00:00, 19.3kB/s]"
          }
        },
        "17101187e7ef4e4b9da948e0380841a6": {
          "model_module": "@jupyter-widgets/base",
          "model_name": "LayoutModel",
          "model_module_version": "1.2.0",
          "state": {
            "_model_module": "@jupyter-widgets/base",
            "_model_module_version": "1.2.0",
            "_model_name": "LayoutModel",
            "_view_count": null,
            "_view_module": "@jupyter-widgets/base",
            "_view_module_version": "1.2.0",
            "_view_name": "LayoutView",
            "align_content": null,
            "align_items": null,
            "align_self": null,
            "border": null,
            "bottom": null,
            "display": null,
            "flex": null,
            "flex_flow": null,
            "grid_area": null,
            "grid_auto_columns": null,
            "grid_auto_flow": null,
            "grid_auto_rows": null,
            "grid_column": null,
            "grid_gap": null,
            "grid_row": null,
            "grid_template_areas": null,
            "grid_template_columns": null,
            "grid_template_rows": null,
            "height": null,
            "justify_content": null,
            "justify_items": null,
            "left": null,
            "margin": null,
            "max_height": null,
            "max_width": null,
            "min_height": null,
            "min_width": null,
            "object_fit": null,
            "object_position": null,
            "order": null,
            "overflow": null,
            "overflow_x": null,
            "overflow_y": null,
            "padding": null,
            "right": null,
            "top": null,
            "visibility": null,
            "width": null
          }
        },
        "dcb84997ae984488b06e0890e57f4b39": {
          "model_module": "@jupyter-widgets/base",
          "model_name": "LayoutModel",
          "model_module_version": "1.2.0",
          "state": {
            "_model_module": "@jupyter-widgets/base",
            "_model_module_version": "1.2.0",
            "_model_name": "LayoutModel",
            "_view_count": null,
            "_view_module": "@jupyter-widgets/base",
            "_view_module_version": "1.2.0",
            "_view_name": "LayoutView",
            "align_content": null,
            "align_items": null,
            "align_self": null,
            "border": null,
            "bottom": null,
            "display": null,
            "flex": null,
            "flex_flow": null,
            "grid_area": null,
            "grid_auto_columns": null,
            "grid_auto_flow": null,
            "grid_auto_rows": null,
            "grid_column": null,
            "grid_gap": null,
            "grid_row": null,
            "grid_template_areas": null,
            "grid_template_columns": null,
            "grid_template_rows": null,
            "height": null,
            "justify_content": null,
            "justify_items": null,
            "left": null,
            "margin": null,
            "max_height": null,
            "max_width": null,
            "min_height": null,
            "min_width": null,
            "object_fit": null,
            "object_position": null,
            "order": null,
            "overflow": null,
            "overflow_x": null,
            "overflow_y": null,
            "padding": null,
            "right": null,
            "top": null,
            "visibility": null,
            "width": null
          }
        },
        "e2c38e70b3e04c08979c8704a835d4f9": {
          "model_module": "@jupyter-widgets/controls",
          "model_name": "DescriptionStyleModel",
          "model_module_version": "1.5.0",
          "state": {
            "_model_module": "@jupyter-widgets/controls",
            "_model_module_version": "1.5.0",
            "_model_name": "DescriptionStyleModel",
            "_view_count": null,
            "_view_module": "@jupyter-widgets/base",
            "_view_module_version": "1.2.0",
            "_view_name": "StyleView",
            "description_width": ""
          }
        },
        "3f507fd359b74d6d990fe390469e79aa": {
          "model_module": "@jupyter-widgets/base",
          "model_name": "LayoutModel",
          "model_module_version": "1.2.0",
          "state": {
            "_model_module": "@jupyter-widgets/base",
            "_model_module_version": "1.2.0",
            "_model_name": "LayoutModel",
            "_view_count": null,
            "_view_module": "@jupyter-widgets/base",
            "_view_module_version": "1.2.0",
            "_view_name": "LayoutView",
            "align_content": null,
            "align_items": null,
            "align_self": null,
            "border": null,
            "bottom": null,
            "display": null,
            "flex": null,
            "flex_flow": null,
            "grid_area": null,
            "grid_auto_columns": null,
            "grid_auto_flow": null,
            "grid_auto_rows": null,
            "grid_column": null,
            "grid_gap": null,
            "grid_row": null,
            "grid_template_areas": null,
            "grid_template_columns": null,
            "grid_template_rows": null,
            "height": null,
            "justify_content": null,
            "justify_items": null,
            "left": null,
            "margin": null,
            "max_height": null,
            "max_width": null,
            "min_height": null,
            "min_width": null,
            "object_fit": null,
            "object_position": null,
            "order": null,
            "overflow": null,
            "overflow_x": null,
            "overflow_y": null,
            "padding": null,
            "right": null,
            "top": null,
            "visibility": null,
            "width": null
          }
        },
        "d151d5505a144b0486bcaed5d81d0e9a": {
          "model_module": "@jupyter-widgets/controls",
          "model_name": "ProgressStyleModel",
          "model_module_version": "1.5.0",
          "state": {
            "_model_module": "@jupyter-widgets/controls",
            "_model_module_version": "1.5.0",
            "_model_name": "ProgressStyleModel",
            "_view_count": null,
            "_view_module": "@jupyter-widgets/base",
            "_view_module_version": "1.2.0",
            "_view_name": "StyleView",
            "bar_color": null,
            "description_width": ""
          }
        },
        "f8e942ad6c1b4e2886e38d1992de2826": {
          "model_module": "@jupyter-widgets/base",
          "model_name": "LayoutModel",
          "model_module_version": "1.2.0",
          "state": {
            "_model_module": "@jupyter-widgets/base",
            "_model_module_version": "1.2.0",
            "_model_name": "LayoutModel",
            "_view_count": null,
            "_view_module": "@jupyter-widgets/base",
            "_view_module_version": "1.2.0",
            "_view_name": "LayoutView",
            "align_content": null,
            "align_items": null,
            "align_self": null,
            "border": null,
            "bottom": null,
            "display": null,
            "flex": null,
            "flex_flow": null,
            "grid_area": null,
            "grid_auto_columns": null,
            "grid_auto_flow": null,
            "grid_auto_rows": null,
            "grid_column": null,
            "grid_gap": null,
            "grid_row": null,
            "grid_template_areas": null,
            "grid_template_columns": null,
            "grid_template_rows": null,
            "height": null,
            "justify_content": null,
            "justify_items": null,
            "left": null,
            "margin": null,
            "max_height": null,
            "max_width": null,
            "min_height": null,
            "min_width": null,
            "object_fit": null,
            "object_position": null,
            "order": null,
            "overflow": null,
            "overflow_x": null,
            "overflow_y": null,
            "padding": null,
            "right": null,
            "top": null,
            "visibility": null,
            "width": null
          }
        },
        "17903da327c64632bf7c763bffaba5ec": {
          "model_module": "@jupyter-widgets/controls",
          "model_name": "DescriptionStyleModel",
          "model_module_version": "1.5.0",
          "state": {
            "_model_module": "@jupyter-widgets/controls",
            "_model_module_version": "1.5.0",
            "_model_name": "DescriptionStyleModel",
            "_view_count": null,
            "_view_module": "@jupyter-widgets/base",
            "_view_module_version": "1.2.0",
            "_view_name": "StyleView",
            "description_width": ""
          }
        },
        "daa15456a9e242c0a8db4b413809c777": {
          "model_module": "@jupyter-widgets/controls",
          "model_name": "HBoxModel",
          "model_module_version": "1.5.0",
          "state": {
            "_dom_classes": [],
            "_model_module": "@jupyter-widgets/controls",
            "_model_module_version": "1.5.0",
            "_model_name": "HBoxModel",
            "_view_count": null,
            "_view_module": "@jupyter-widgets/controls",
            "_view_module_version": "1.5.0",
            "_view_name": "HBoxView",
            "box_style": "",
            "children": [
              "IPY_MODEL_46368e4ec6224307880b0b4b50d7ee60",
              "IPY_MODEL_ee970fb6bb0d462a84ebf993833c10ec",
              "IPY_MODEL_80d1192efa174a3a95e409a0826166cf"
            ],
            "layout": "IPY_MODEL_877972a490f341a98a70013650d392e7"
          }
        },
        "46368e4ec6224307880b0b4b50d7ee60": {
          "model_module": "@jupyter-widgets/controls",
          "model_name": "HTMLModel",
          "model_module_version": "1.5.0",
          "state": {
            "_dom_classes": [],
            "_model_module": "@jupyter-widgets/controls",
            "_model_module_version": "1.5.0",
            "_model_name": "HTMLModel",
            "_view_count": null,
            "_view_module": "@jupyter-widgets/controls",
            "_view_module_version": "1.5.0",
            "_view_name": "HTMLView",
            "description": "",
            "description_tooltip": null,
            "layout": "IPY_MODEL_ea86c0d8f86d4b99b921e42ea525f68a",
            "placeholder": "​",
            "style": "IPY_MODEL_766accc1cfff40c587f1cecc54c2fe28",
            "value": "model.safetensors: 100%"
          }
        },
        "ee970fb6bb0d462a84ebf993833c10ec": {
          "model_module": "@jupyter-widgets/controls",
          "model_name": "FloatProgressModel",
          "model_module_version": "1.5.0",
          "state": {
            "_dom_classes": [],
            "_model_module": "@jupyter-widgets/controls",
            "_model_module_version": "1.5.0",
            "_model_name": "FloatProgressModel",
            "_view_count": null,
            "_view_module": "@jupyter-widgets/controls",
            "_view_module_version": "1.5.0",
            "_view_name": "ProgressView",
            "bar_style": "success",
            "description": "",
            "description_tooltip": null,
            "layout": "IPY_MODEL_7684e67c41df43ee8947529fcc20f55a",
            "max": 440449768,
            "min": 0,
            "orientation": "horizontal",
            "style": "IPY_MODEL_37cfe15076f14db0ae49d215cd3c40d5",
            "value": 440449768
          }
        },
        "80d1192efa174a3a95e409a0826166cf": {
          "model_module": "@jupyter-widgets/controls",
          "model_name": "HTMLModel",
          "model_module_version": "1.5.0",
          "state": {
            "_dom_classes": [],
            "_model_module": "@jupyter-widgets/controls",
            "_model_module_version": "1.5.0",
            "_model_name": "HTMLModel",
            "_view_count": null,
            "_view_module": "@jupyter-widgets/controls",
            "_view_module_version": "1.5.0",
            "_view_name": "HTMLView",
            "description": "",
            "description_tooltip": null,
            "layout": "IPY_MODEL_148c22743bda4e209dc2917857fe0b75",
            "placeholder": "​",
            "style": "IPY_MODEL_bd928d5abfb849a0ba8a706005b72a3e",
            "value": " 440M/440M [00:01&lt;00:00, 230MB/s]"
          }
        },
        "877972a490f341a98a70013650d392e7": {
          "model_module": "@jupyter-widgets/base",
          "model_name": "LayoutModel",
          "model_module_version": "1.2.0",
          "state": {
            "_model_module": "@jupyter-widgets/base",
            "_model_module_version": "1.2.0",
            "_model_name": "LayoutModel",
            "_view_count": null,
            "_view_module": "@jupyter-widgets/base",
            "_view_module_version": "1.2.0",
            "_view_name": "LayoutView",
            "align_content": null,
            "align_items": null,
            "align_self": null,
            "border": null,
            "bottom": null,
            "display": null,
            "flex": null,
            "flex_flow": null,
            "grid_area": null,
            "grid_auto_columns": null,
            "grid_auto_flow": null,
            "grid_auto_rows": null,
            "grid_column": null,
            "grid_gap": null,
            "grid_row": null,
            "grid_template_areas": null,
            "grid_template_columns": null,
            "grid_template_rows": null,
            "height": null,
            "justify_content": null,
            "justify_items": null,
            "left": null,
            "margin": null,
            "max_height": null,
            "max_width": null,
            "min_height": null,
            "min_width": null,
            "object_fit": null,
            "object_position": null,
            "order": null,
            "overflow": null,
            "overflow_x": null,
            "overflow_y": null,
            "padding": null,
            "right": null,
            "top": null,
            "visibility": null,
            "width": null
          }
        },
        "ea86c0d8f86d4b99b921e42ea525f68a": {
          "model_module": "@jupyter-widgets/base",
          "model_name": "LayoutModel",
          "model_module_version": "1.2.0",
          "state": {
            "_model_module": "@jupyter-widgets/base",
            "_model_module_version": "1.2.0",
            "_model_name": "LayoutModel",
            "_view_count": null,
            "_view_module": "@jupyter-widgets/base",
            "_view_module_version": "1.2.0",
            "_view_name": "LayoutView",
            "align_content": null,
            "align_items": null,
            "align_self": null,
            "border": null,
            "bottom": null,
            "display": null,
            "flex": null,
            "flex_flow": null,
            "grid_area": null,
            "grid_auto_columns": null,
            "grid_auto_flow": null,
            "grid_auto_rows": null,
            "grid_column": null,
            "grid_gap": null,
            "grid_row": null,
            "grid_template_areas": null,
            "grid_template_columns": null,
            "grid_template_rows": null,
            "height": null,
            "justify_content": null,
            "justify_items": null,
            "left": null,
            "margin": null,
            "max_height": null,
            "max_width": null,
            "min_height": null,
            "min_width": null,
            "object_fit": null,
            "object_position": null,
            "order": null,
            "overflow": null,
            "overflow_x": null,
            "overflow_y": null,
            "padding": null,
            "right": null,
            "top": null,
            "visibility": null,
            "width": null
          }
        },
        "766accc1cfff40c587f1cecc54c2fe28": {
          "model_module": "@jupyter-widgets/controls",
          "model_name": "DescriptionStyleModel",
          "model_module_version": "1.5.0",
          "state": {
            "_model_module": "@jupyter-widgets/controls",
            "_model_module_version": "1.5.0",
            "_model_name": "DescriptionStyleModel",
            "_view_count": null,
            "_view_module": "@jupyter-widgets/base",
            "_view_module_version": "1.2.0",
            "_view_name": "StyleView",
            "description_width": ""
          }
        },
        "7684e67c41df43ee8947529fcc20f55a": {
          "model_module": "@jupyter-widgets/base",
          "model_name": "LayoutModel",
          "model_module_version": "1.2.0",
          "state": {
            "_model_module": "@jupyter-widgets/base",
            "_model_module_version": "1.2.0",
            "_model_name": "LayoutModel",
            "_view_count": null,
            "_view_module": "@jupyter-widgets/base",
            "_view_module_version": "1.2.0",
            "_view_name": "LayoutView",
            "align_content": null,
            "align_items": null,
            "align_self": null,
            "border": null,
            "bottom": null,
            "display": null,
            "flex": null,
            "flex_flow": null,
            "grid_area": null,
            "grid_auto_columns": null,
            "grid_auto_flow": null,
            "grid_auto_rows": null,
            "grid_column": null,
            "grid_gap": null,
            "grid_row": null,
            "grid_template_areas": null,
            "grid_template_columns": null,
            "grid_template_rows": null,
            "height": null,
            "justify_content": null,
            "justify_items": null,
            "left": null,
            "margin": null,
            "max_height": null,
            "max_width": null,
            "min_height": null,
            "min_width": null,
            "object_fit": null,
            "object_position": null,
            "order": null,
            "overflow": null,
            "overflow_x": null,
            "overflow_y": null,
            "padding": null,
            "right": null,
            "top": null,
            "visibility": null,
            "width": null
          }
        },
        "37cfe15076f14db0ae49d215cd3c40d5": {
          "model_module": "@jupyter-widgets/controls",
          "model_name": "ProgressStyleModel",
          "model_module_version": "1.5.0",
          "state": {
            "_model_module": "@jupyter-widgets/controls",
            "_model_module_version": "1.5.0",
            "_model_name": "ProgressStyleModel",
            "_view_count": null,
            "_view_module": "@jupyter-widgets/base",
            "_view_module_version": "1.2.0",
            "_view_name": "StyleView",
            "bar_color": null,
            "description_width": ""
          }
        },
        "148c22743bda4e209dc2917857fe0b75": {
          "model_module": "@jupyter-widgets/base",
          "model_name": "LayoutModel",
          "model_module_version": "1.2.0",
          "state": {
            "_model_module": "@jupyter-widgets/base",
            "_model_module_version": "1.2.0",
            "_model_name": "LayoutModel",
            "_view_count": null,
            "_view_module": "@jupyter-widgets/base",
            "_view_module_version": "1.2.0",
            "_view_name": "LayoutView",
            "align_content": null,
            "align_items": null,
            "align_self": null,
            "border": null,
            "bottom": null,
            "display": null,
            "flex": null,
            "flex_flow": null,
            "grid_area": null,
            "grid_auto_columns": null,
            "grid_auto_flow": null,
            "grid_auto_rows": null,
            "grid_column": null,
            "grid_gap": null,
            "grid_row": null,
            "grid_template_areas": null,
            "grid_template_columns": null,
            "grid_template_rows": null,
            "height": null,
            "justify_content": null,
            "justify_items": null,
            "left": null,
            "margin": null,
            "max_height": null,
            "max_width": null,
            "min_height": null,
            "min_width": null,
            "object_fit": null,
            "object_position": null,
            "order": null,
            "overflow": null,
            "overflow_x": null,
            "overflow_y": null,
            "padding": null,
            "right": null,
            "top": null,
            "visibility": null,
            "width": null
          }
        },
        "bd928d5abfb849a0ba8a706005b72a3e": {
          "model_module": "@jupyter-widgets/controls",
          "model_name": "DescriptionStyleModel",
          "model_module_version": "1.5.0",
          "state": {
            "_model_module": "@jupyter-widgets/controls",
            "_model_module_version": "1.5.0",
            "_model_name": "DescriptionStyleModel",
            "_view_count": null,
            "_view_module": "@jupyter-widgets/base",
            "_view_module_version": "1.2.0",
            "_view_name": "StyleView",
            "description_width": ""
          }
        }
      }
    },
    "accelerator": "GPU"
  },
  "nbformat": 4,
  "nbformat_minor": 0
}